{
 "cells": [
  {
   "cell_type": "markdown",
   "metadata": {},
   "source": [
    "# Proyek Analisis Data: Air Quality Dataset\n",
    "- **Nama:** Abil Khairi\n",
    "- **Email:** a251ybm006@devacademy.id\n",
    "- **ID Dicoding:** khairiabill"
   ]
  },
  {
   "cell_type": "markdown",
   "metadata": {},
   "source": [
    "## Menentukan Pertanyaan Bisnis"
   ]
  },
  {
   "cell_type": "markdown",
   "metadata": {},
   "source": [
    "1. Bagaimana tren konsentrasi PM2.5 dan PM10 selama beberapa tahun terakhir di Aotizhongxin?\n",
    "2. Polutan mana (SO2, NO2, CO, O3) yang memiliki kontribusi tertinggi terhadap polusi udara di Aotizhongxin?"
   ]
  },
  {
   "cell_type": "markdown",
   "metadata": {},
   "source": [
    "## Import Semua Packages/Library yang Digunakan"
   ]
  },
  {
   "cell_type": "code",
   "execution_count": 12,
   "metadata": {},
   "outputs": [],
   "source": [
    "import pandas as pd\n",
    "import numpy as np\n",
    "import os\n",
    "import matplotlib.pyplot as plt\n",
    "import seaborn as sns\n",
    "import streamlit as st\n",
    "# from babel.numbers import format_currency\n",
    "sns.set(style='dark')"
   ]
  },
  {
   "cell_type": "markdown",
   "metadata": {},
   "source": [
    "## Data Wrangling"
   ]
  },
  {
   "cell_type": "markdown",
   "metadata": {},
   "source": [
    "### Gathering Data"
   ]
  },
  {
   "cell_type": "code",
   "execution_count": 13,
   "metadata": {},
   "outputs": [
    {
     "data": {
      "text/html": [
       "<div>\n",
       "<style scoped>\n",
       "    .dataframe tbody tr th:only-of-type {\n",
       "        vertical-align: middle;\n",
       "    }\n",
       "\n",
       "    .dataframe tbody tr th {\n",
       "        vertical-align: top;\n",
       "    }\n",
       "\n",
       "    .dataframe thead th {\n",
       "        text-align: right;\n",
       "    }\n",
       "</style>\n",
       "<table border=\"1\" class=\"dataframe\">\n",
       "  <thead>\n",
       "    <tr style=\"text-align: right;\">\n",
       "      <th></th>\n",
       "      <th>No</th>\n",
       "      <th>year</th>\n",
       "      <th>month</th>\n",
       "      <th>day</th>\n",
       "      <th>hour</th>\n",
       "      <th>PM2.5</th>\n",
       "      <th>PM10</th>\n",
       "      <th>SO2</th>\n",
       "      <th>NO2</th>\n",
       "      <th>CO</th>\n",
       "      <th>O3</th>\n",
       "      <th>TEMP</th>\n",
       "      <th>PRES</th>\n",
       "      <th>DEWP</th>\n",
       "      <th>RAIN</th>\n",
       "      <th>wd</th>\n",
       "      <th>WSPM</th>\n",
       "      <th>station</th>\n",
       "    </tr>\n",
       "  </thead>\n",
       "  <tbody>\n",
       "    <tr>\n",
       "      <th>0</th>\n",
       "      <td>1</td>\n",
       "      <td>2013</td>\n",
       "      <td>3</td>\n",
       "      <td>1</td>\n",
       "      <td>0</td>\n",
       "      <td>4.0</td>\n",
       "      <td>4.0</td>\n",
       "      <td>4.0</td>\n",
       "      <td>7.0</td>\n",
       "      <td>300.0</td>\n",
       "      <td>77.0</td>\n",
       "      <td>-0.7</td>\n",
       "      <td>1023.0</td>\n",
       "      <td>-18.8</td>\n",
       "      <td>0.0</td>\n",
       "      <td>NNW</td>\n",
       "      <td>4.4</td>\n",
       "      <td>Aotizhongxin</td>\n",
       "    </tr>\n",
       "    <tr>\n",
       "      <th>1</th>\n",
       "      <td>2</td>\n",
       "      <td>2013</td>\n",
       "      <td>3</td>\n",
       "      <td>1</td>\n",
       "      <td>1</td>\n",
       "      <td>8.0</td>\n",
       "      <td>8.0</td>\n",
       "      <td>4.0</td>\n",
       "      <td>7.0</td>\n",
       "      <td>300.0</td>\n",
       "      <td>77.0</td>\n",
       "      <td>-1.1</td>\n",
       "      <td>1023.2</td>\n",
       "      <td>-18.2</td>\n",
       "      <td>0.0</td>\n",
       "      <td>N</td>\n",
       "      <td>4.7</td>\n",
       "      <td>Aotizhongxin</td>\n",
       "    </tr>\n",
       "    <tr>\n",
       "      <th>2</th>\n",
       "      <td>3</td>\n",
       "      <td>2013</td>\n",
       "      <td>3</td>\n",
       "      <td>1</td>\n",
       "      <td>2</td>\n",
       "      <td>7.0</td>\n",
       "      <td>7.0</td>\n",
       "      <td>5.0</td>\n",
       "      <td>10.0</td>\n",
       "      <td>300.0</td>\n",
       "      <td>73.0</td>\n",
       "      <td>-1.1</td>\n",
       "      <td>1023.5</td>\n",
       "      <td>-18.2</td>\n",
       "      <td>0.0</td>\n",
       "      <td>NNW</td>\n",
       "      <td>5.6</td>\n",
       "      <td>Aotizhongxin</td>\n",
       "    </tr>\n",
       "    <tr>\n",
       "      <th>3</th>\n",
       "      <td>4</td>\n",
       "      <td>2013</td>\n",
       "      <td>3</td>\n",
       "      <td>1</td>\n",
       "      <td>3</td>\n",
       "      <td>6.0</td>\n",
       "      <td>6.0</td>\n",
       "      <td>11.0</td>\n",
       "      <td>11.0</td>\n",
       "      <td>300.0</td>\n",
       "      <td>72.0</td>\n",
       "      <td>-1.4</td>\n",
       "      <td>1024.5</td>\n",
       "      <td>-19.4</td>\n",
       "      <td>0.0</td>\n",
       "      <td>NW</td>\n",
       "      <td>3.1</td>\n",
       "      <td>Aotizhongxin</td>\n",
       "    </tr>\n",
       "    <tr>\n",
       "      <th>4</th>\n",
       "      <td>5</td>\n",
       "      <td>2013</td>\n",
       "      <td>3</td>\n",
       "      <td>1</td>\n",
       "      <td>4</td>\n",
       "      <td>3.0</td>\n",
       "      <td>3.0</td>\n",
       "      <td>12.0</td>\n",
       "      <td>12.0</td>\n",
       "      <td>300.0</td>\n",
       "      <td>72.0</td>\n",
       "      <td>-2.0</td>\n",
       "      <td>1025.2</td>\n",
       "      <td>-19.5</td>\n",
       "      <td>0.0</td>\n",
       "      <td>N</td>\n",
       "      <td>2.0</td>\n",
       "      <td>Aotizhongxin</td>\n",
       "    </tr>\n",
       "  </tbody>\n",
       "</table>\n",
       "</div>"
      ],
      "text/plain": [
       "   No  year  month  day  hour  PM2.5  PM10   SO2   NO2     CO    O3  TEMP  \\\n",
       "0   1  2013      3    1     0    4.0   4.0   4.0   7.0  300.0  77.0  -0.7   \n",
       "1   2  2013      3    1     1    8.0   8.0   4.0   7.0  300.0  77.0  -1.1   \n",
       "2   3  2013      3    1     2    7.0   7.0   5.0  10.0  300.0  73.0  -1.1   \n",
       "3   4  2013      3    1     3    6.0   6.0  11.0  11.0  300.0  72.0  -1.4   \n",
       "4   5  2013      3    1     4    3.0   3.0  12.0  12.0  300.0  72.0  -2.0   \n",
       "\n",
       "     PRES  DEWP  RAIN   wd  WSPM       station  \n",
       "0  1023.0 -18.8   0.0  NNW   4.4  Aotizhongxin  \n",
       "1  1023.2 -18.2   0.0    N   4.7  Aotizhongxin  \n",
       "2  1023.5 -18.2   0.0  NNW   5.6  Aotizhongxin  \n",
       "3  1024.5 -19.4   0.0   NW   3.1  Aotizhongxin  \n",
       "4  1025.2 -19.5   0.0    N   2.0  Aotizhongxin  "
      ]
     },
     "execution_count": 13,
     "metadata": {},
     "output_type": "execute_result"
    }
   ],
   "source": [
    "df = pd.read_csv('./data/PRSA_Data_Aotizhongxin_20130301-20170228.csv')\n",
    "df.head()"
   ]
  },
  {
   "cell_type": "markdown",
   "metadata": {},
   "source": [
    "**Insight:**\n",
    "- Dataset mencakup data pengamatan kualitas udara dari stasiun Aotizhongxin\n",
    "- Data mencakup periode waktu tertentu (2013–2017)"
   ]
  },
  {
   "cell_type": "markdown",
   "metadata": {},
   "source": [
    "### Assessing Data"
   ]
  },
  {
   "cell_type": "code",
   "execution_count": 14,
   "metadata": {},
   "outputs": [
    {
     "name": "stdout",
     "output_type": "stream",
     "text": [
      "<class 'pandas.core.frame.DataFrame'>\n",
      "RangeIndex: 35064 entries, 0 to 35063\n",
      "Data columns (total 18 columns):\n",
      " #   Column   Non-Null Count  Dtype  \n",
      "---  ------   --------------  -----  \n",
      " 0   No       35064 non-null  int64  \n",
      " 1   year     35064 non-null  int64  \n",
      " 2   month    35064 non-null  int64  \n",
      " 3   day      35064 non-null  int64  \n",
      " 4   hour     35064 non-null  int64  \n",
      " 5   PM2.5    34139 non-null  float64\n",
      " 6   PM10     34346 non-null  float64\n",
      " 7   SO2      34129 non-null  float64\n",
      " 8   NO2      34041 non-null  float64\n",
      " 9   CO       33288 non-null  float64\n",
      " 10  O3       33345 non-null  float64\n",
      " 11  TEMP     35044 non-null  float64\n",
      " 12  PRES     35044 non-null  float64\n",
      " 13  DEWP     35044 non-null  float64\n",
      " 14  RAIN     35044 non-null  float64\n",
      " 15  wd       34983 non-null  object \n",
      " 16  WSPM     35050 non-null  float64\n",
      " 17  station  35064 non-null  object \n",
      "dtypes: float64(11), int64(5), object(2)\n",
      "memory usage: 4.8+ MB\n"
     ]
    }
   ],
   "source": [
    "df.info()"
   ]
  },
  {
   "cell_type": "markdown",
   "metadata": {},
   "source": [
    "**Insight:**\n",
    "- Dataset terdiri dari 35064  baris dan 18 kolom\n",
    "- Tipe data kolom:\n",
    "  - Kolom seperti year, month, day, dan hour bertipe integer .\n",
    "  - Kolom seperti PM2.5, PM10, SO2, NO2, CO, O3, TEMP, PRES, DEWP, RAIN,, dan WSMP bertipe float .\n",
    "  - Kolom seperti wd dan station bertipe object."
   ]
  },
  {
   "cell_type": "code",
   "execution_count": 15,
   "metadata": {},
   "outputs": [
    {
     "data": {
      "text/plain": [
       "No            0\n",
       "year          0\n",
       "month         0\n",
       "day           0\n",
       "hour          0\n",
       "PM2.5       925\n",
       "PM10        718\n",
       "SO2         935\n",
       "NO2        1023\n",
       "CO         1776\n",
       "O3         1719\n",
       "TEMP         20\n",
       "PRES         20\n",
       "DEWP         20\n",
       "RAIN         20\n",
       "wd           81\n",
       "WSPM         14\n",
       "station       0\n",
       "dtype: int64"
      ]
     },
     "execution_count": 15,
     "metadata": {},
     "output_type": "execute_result"
    }
   ],
   "source": [
    "df.isna().sum()"
   ]
  },
  {
   "cell_type": "markdown",
   "metadata": {},
   "source": [
    "**Insigth**\n",
    "- terdapat 12 kolom yang memiliki missing values"
   ]
  },
  {
   "cell_type": "code",
   "execution_count": 16,
   "metadata": {},
   "outputs": [
    {
     "name": "stdout",
     "output_type": "stream",
     "text": [
      "Jumlah duplikasi:  0\n"
     ]
    }
   ],
   "source": [
    "print(\"Jumlah duplikasi: \", df.duplicated().sum())"
   ]
  },
  {
   "cell_type": "markdown",
   "metadata": {},
   "source": [
    "**Insight:**\n",
    "- Dataset ini memiliki 0 baris duplikat .\n",
    "- Artinya, setiap baris dalam dataset adalah unik, dan tidak ada pengulangan data yang tidak disengaja."
   ]
  },
  {
   "cell_type": "code",
   "execution_count": 17,
   "metadata": {},
   "outputs": [
    {
     "data": {
      "text/html": [
       "<div>\n",
       "<style scoped>\n",
       "    .dataframe tbody tr th:only-of-type {\n",
       "        vertical-align: middle;\n",
       "    }\n",
       "\n",
       "    .dataframe tbody tr th {\n",
       "        vertical-align: top;\n",
       "    }\n",
       "\n",
       "    .dataframe thead th {\n",
       "        text-align: right;\n",
       "    }\n",
       "</style>\n",
       "<table border=\"1\" class=\"dataframe\">\n",
       "  <thead>\n",
       "    <tr style=\"text-align: right;\">\n",
       "      <th></th>\n",
       "      <th>No</th>\n",
       "      <th>year</th>\n",
       "      <th>month</th>\n",
       "      <th>day</th>\n",
       "      <th>hour</th>\n",
       "      <th>PM2.5</th>\n",
       "      <th>PM10</th>\n",
       "      <th>SO2</th>\n",
       "      <th>NO2</th>\n",
       "      <th>CO</th>\n",
       "      <th>O3</th>\n",
       "      <th>TEMP</th>\n",
       "      <th>PRES</th>\n",
       "      <th>DEWP</th>\n",
       "      <th>RAIN</th>\n",
       "      <th>WSPM</th>\n",
       "    </tr>\n",
       "  </thead>\n",
       "  <tbody>\n",
       "    <tr>\n",
       "      <th>count</th>\n",
       "      <td>35064.000000</td>\n",
       "      <td>35064.000000</td>\n",
       "      <td>35064.000000</td>\n",
       "      <td>35064.000000</td>\n",
       "      <td>35064.000000</td>\n",
       "      <td>34139.000000</td>\n",
       "      <td>34346.000000</td>\n",
       "      <td>34129.000000</td>\n",
       "      <td>34041.000000</td>\n",
       "      <td>33288.000000</td>\n",
       "      <td>33345.000000</td>\n",
       "      <td>35044.000000</td>\n",
       "      <td>35044.000000</td>\n",
       "      <td>35044.000000</td>\n",
       "      <td>35044.000000</td>\n",
       "      <td>35050.000000</td>\n",
       "    </tr>\n",
       "    <tr>\n",
       "      <th>mean</th>\n",
       "      <td>17532.500000</td>\n",
       "      <td>2014.662560</td>\n",
       "      <td>6.522930</td>\n",
       "      <td>15.729637</td>\n",
       "      <td>11.500000</td>\n",
       "      <td>82.773611</td>\n",
       "      <td>110.060391</td>\n",
       "      <td>17.375901</td>\n",
       "      <td>59.305833</td>\n",
       "      <td>1262.945145</td>\n",
       "      <td>56.353358</td>\n",
       "      <td>13.584607</td>\n",
       "      <td>1011.846920</td>\n",
       "      <td>3.123062</td>\n",
       "      <td>0.067421</td>\n",
       "      <td>1.708496</td>\n",
       "    </tr>\n",
       "    <tr>\n",
       "      <th>std</th>\n",
       "      <td>10122.249256</td>\n",
       "      <td>1.177213</td>\n",
       "      <td>3.448752</td>\n",
       "      <td>8.800218</td>\n",
       "      <td>6.922285</td>\n",
       "      <td>82.135694</td>\n",
       "      <td>95.223005</td>\n",
       "      <td>22.823017</td>\n",
       "      <td>37.116200</td>\n",
       "      <td>1221.436236</td>\n",
       "      <td>57.916327</td>\n",
       "      <td>11.399097</td>\n",
       "      <td>10.404047</td>\n",
       "      <td>13.688896</td>\n",
       "      <td>0.910056</td>\n",
       "      <td>1.204071</td>\n",
       "    </tr>\n",
       "    <tr>\n",
       "      <th>min</th>\n",
       "      <td>1.000000</td>\n",
       "      <td>2013.000000</td>\n",
       "      <td>1.000000</td>\n",
       "      <td>1.000000</td>\n",
       "      <td>0.000000</td>\n",
       "      <td>3.000000</td>\n",
       "      <td>2.000000</td>\n",
       "      <td>0.285600</td>\n",
       "      <td>2.000000</td>\n",
       "      <td>100.000000</td>\n",
       "      <td>0.214200</td>\n",
       "      <td>-16.800000</td>\n",
       "      <td>985.900000</td>\n",
       "      <td>-35.300000</td>\n",
       "      <td>0.000000</td>\n",
       "      <td>0.000000</td>\n",
       "    </tr>\n",
       "    <tr>\n",
       "      <th>25%</th>\n",
       "      <td>8766.750000</td>\n",
       "      <td>2014.000000</td>\n",
       "      <td>4.000000</td>\n",
       "      <td>8.000000</td>\n",
       "      <td>5.750000</td>\n",
       "      <td>22.000000</td>\n",
       "      <td>38.000000</td>\n",
       "      <td>3.000000</td>\n",
       "      <td>30.000000</td>\n",
       "      <td>500.000000</td>\n",
       "      <td>8.000000</td>\n",
       "      <td>3.100000</td>\n",
       "      <td>1003.300000</td>\n",
       "      <td>-8.100000</td>\n",
       "      <td>0.000000</td>\n",
       "      <td>0.900000</td>\n",
       "    </tr>\n",
       "    <tr>\n",
       "      <th>50%</th>\n",
       "      <td>17532.500000</td>\n",
       "      <td>2015.000000</td>\n",
       "      <td>7.000000</td>\n",
       "      <td>16.000000</td>\n",
       "      <td>11.500000</td>\n",
       "      <td>58.000000</td>\n",
       "      <td>87.000000</td>\n",
       "      <td>9.000000</td>\n",
       "      <td>53.000000</td>\n",
       "      <td>900.000000</td>\n",
       "      <td>42.000000</td>\n",
       "      <td>14.500000</td>\n",
       "      <td>1011.400000</td>\n",
       "      <td>3.800000</td>\n",
       "      <td>0.000000</td>\n",
       "      <td>1.400000</td>\n",
       "    </tr>\n",
       "    <tr>\n",
       "      <th>75%</th>\n",
       "      <td>26298.250000</td>\n",
       "      <td>2016.000000</td>\n",
       "      <td>10.000000</td>\n",
       "      <td>23.000000</td>\n",
       "      <td>17.250000</td>\n",
       "      <td>114.000000</td>\n",
       "      <td>155.000000</td>\n",
       "      <td>21.000000</td>\n",
       "      <td>82.000000</td>\n",
       "      <td>1500.000000</td>\n",
       "      <td>82.000000</td>\n",
       "      <td>23.300000</td>\n",
       "      <td>1020.100000</td>\n",
       "      <td>15.600000</td>\n",
       "      <td>0.000000</td>\n",
       "      <td>2.200000</td>\n",
       "    </tr>\n",
       "    <tr>\n",
       "      <th>max</th>\n",
       "      <td>35064.000000</td>\n",
       "      <td>2017.000000</td>\n",
       "      <td>12.000000</td>\n",
       "      <td>31.000000</td>\n",
       "      <td>23.000000</td>\n",
       "      <td>898.000000</td>\n",
       "      <td>984.000000</td>\n",
       "      <td>341.000000</td>\n",
       "      <td>290.000000</td>\n",
       "      <td>10000.000000</td>\n",
       "      <td>423.000000</td>\n",
       "      <td>40.500000</td>\n",
       "      <td>1042.000000</td>\n",
       "      <td>28.500000</td>\n",
       "      <td>72.500000</td>\n",
       "      <td>11.200000</td>\n",
       "    </tr>\n",
       "  </tbody>\n",
       "</table>\n",
       "</div>"
      ],
      "text/plain": [
       "                 No          year         month           day          hour  \\\n",
       "count  35064.000000  35064.000000  35064.000000  35064.000000  35064.000000   \n",
       "mean   17532.500000   2014.662560      6.522930     15.729637     11.500000   \n",
       "std    10122.249256      1.177213      3.448752      8.800218      6.922285   \n",
       "min        1.000000   2013.000000      1.000000      1.000000      0.000000   \n",
       "25%     8766.750000   2014.000000      4.000000      8.000000      5.750000   \n",
       "50%    17532.500000   2015.000000      7.000000     16.000000     11.500000   \n",
       "75%    26298.250000   2016.000000     10.000000     23.000000     17.250000   \n",
       "max    35064.000000   2017.000000     12.000000     31.000000     23.000000   \n",
       "\n",
       "              PM2.5          PM10           SO2           NO2            CO  \\\n",
       "count  34139.000000  34346.000000  34129.000000  34041.000000  33288.000000   \n",
       "mean      82.773611    110.060391     17.375901     59.305833   1262.945145   \n",
       "std       82.135694     95.223005     22.823017     37.116200   1221.436236   \n",
       "min        3.000000      2.000000      0.285600      2.000000    100.000000   \n",
       "25%       22.000000     38.000000      3.000000     30.000000    500.000000   \n",
       "50%       58.000000     87.000000      9.000000     53.000000    900.000000   \n",
       "75%      114.000000    155.000000     21.000000     82.000000   1500.000000   \n",
       "max      898.000000    984.000000    341.000000    290.000000  10000.000000   \n",
       "\n",
       "                 O3          TEMP          PRES          DEWP          RAIN  \\\n",
       "count  33345.000000  35044.000000  35044.000000  35044.000000  35044.000000   \n",
       "mean      56.353358     13.584607   1011.846920      3.123062      0.067421   \n",
       "std       57.916327     11.399097     10.404047     13.688896      0.910056   \n",
       "min        0.214200    -16.800000    985.900000    -35.300000      0.000000   \n",
       "25%        8.000000      3.100000   1003.300000     -8.100000      0.000000   \n",
       "50%       42.000000     14.500000   1011.400000      3.800000      0.000000   \n",
       "75%       82.000000     23.300000   1020.100000     15.600000      0.000000   \n",
       "max      423.000000     40.500000   1042.000000     28.500000     72.500000   \n",
       "\n",
       "               WSPM  \n",
       "count  35050.000000  \n",
       "mean       1.708496  \n",
       "std        1.204071  \n",
       "min        0.000000  \n",
       "25%        0.900000  \n",
       "50%        1.400000  \n",
       "75%        2.200000  \n",
       "max       11.200000  "
      ]
     },
     "execution_count": 17,
     "metadata": {},
     "output_type": "execute_result"
    }
   ],
   "source": [
    "df.describe()"
   ]
  },
  {
   "cell_type": "markdown",
   "metadata": {},
   "source": [
    "### Cleaning Data"
   ]
  },
  {
   "cell_type": "code",
   "execution_count": 18,
   "metadata": {},
   "outputs": [
    {
     "data": {
      "text/html": [
       "<div>\n",
       "<style scoped>\n",
       "    .dataframe tbody tr th:only-of-type {\n",
       "        vertical-align: middle;\n",
       "    }\n",
       "\n",
       "    .dataframe tbody tr th {\n",
       "        vertical-align: top;\n",
       "    }\n",
       "\n",
       "    .dataframe thead th {\n",
       "        text-align: right;\n",
       "    }\n",
       "</style>\n",
       "<table border=\"1\" class=\"dataframe\">\n",
       "  <thead>\n",
       "    <tr style=\"text-align: right;\">\n",
       "      <th></th>\n",
       "      <th>No</th>\n",
       "      <th>year</th>\n",
       "      <th>month</th>\n",
       "      <th>day</th>\n",
       "      <th>hour</th>\n",
       "      <th>PM2.5</th>\n",
       "      <th>PM10</th>\n",
       "      <th>SO2</th>\n",
       "      <th>NO2</th>\n",
       "      <th>CO</th>\n",
       "      <th>O3</th>\n",
       "      <th>TEMP</th>\n",
       "      <th>PRES</th>\n",
       "      <th>DEWP</th>\n",
       "      <th>RAIN</th>\n",
       "      <th>wd</th>\n",
       "      <th>WSPM</th>\n",
       "      <th>station</th>\n",
       "    </tr>\n",
       "  </thead>\n",
       "  <tbody>\n",
       "    <tr>\n",
       "      <th>1509</th>\n",
       "      <td>1510</td>\n",
       "      <td>2013</td>\n",
       "      <td>5</td>\n",
       "      <td>2</td>\n",
       "      <td>21</td>\n",
       "      <td>NaN</td>\n",
       "      <td>183.0</td>\n",
       "      <td>63.0000</td>\n",
       "      <td>93.0000</td>\n",
       "      <td>1200.0</td>\n",
       "      <td>38.0000</td>\n",
       "      <td>18.5</td>\n",
       "      <td>1006.1</td>\n",
       "      <td>6.0</td>\n",
       "      <td>0.0</td>\n",
       "      <td>SE</td>\n",
       "      <td>2.8</td>\n",
       "      <td>Aotizhongxin</td>\n",
       "    </tr>\n",
       "    <tr>\n",
       "      <th>1837</th>\n",
       "      <td>1838</td>\n",
       "      <td>2013</td>\n",
       "      <td>5</td>\n",
       "      <td>16</td>\n",
       "      <td>13</td>\n",
       "      <td>NaN</td>\n",
       "      <td>98.0</td>\n",
       "      <td>46.0000</td>\n",
       "      <td>35.0000</td>\n",
       "      <td>600.0</td>\n",
       "      <td>166.0000</td>\n",
       "      <td>26.1</td>\n",
       "      <td>1009.9</td>\n",
       "      <td>10.7</td>\n",
       "      <td>0.0</td>\n",
       "      <td>SW</td>\n",
       "      <td>2.7</td>\n",
       "      <td>Aotizhongxin</td>\n",
       "    </tr>\n",
       "    <tr>\n",
       "      <th>2368</th>\n",
       "      <td>2369</td>\n",
       "      <td>2013</td>\n",
       "      <td>6</td>\n",
       "      <td>7</td>\n",
       "      <td>16</td>\n",
       "      <td>NaN</td>\n",
       "      <td>137.0</td>\n",
       "      <td>12.0000</td>\n",
       "      <td>74.0000</td>\n",
       "      <td>2500.0</td>\n",
       "      <td>8.0000</td>\n",
       "      <td>20.7</td>\n",
       "      <td>1002.4</td>\n",
       "      <td>19.4</td>\n",
       "      <td>0.0</td>\n",
       "      <td>NNE</td>\n",
       "      <td>0.8</td>\n",
       "      <td>Aotizhongxin</td>\n",
       "    </tr>\n",
       "    <tr>\n",
       "      <th>2785</th>\n",
       "      <td>2786</td>\n",
       "      <td>2013</td>\n",
       "      <td>6</td>\n",
       "      <td>25</td>\n",
       "      <td>1</td>\n",
       "      <td>NaN</td>\n",
       "      <td>35.0</td>\n",
       "      <td>3.1416</td>\n",
       "      <td>35.1063</td>\n",
       "      <td>NaN</td>\n",
       "      <td>60.6186</td>\n",
       "      <td>20.8</td>\n",
       "      <td>996.5</td>\n",
       "      <td>20.5</td>\n",
       "      <td>0.0</td>\n",
       "      <td>NE</td>\n",
       "      <td>0.2</td>\n",
       "      <td>Aotizhongxin</td>\n",
       "    </tr>\n",
       "    <tr>\n",
       "      <th>2808</th>\n",
       "      <td>2809</td>\n",
       "      <td>2013</td>\n",
       "      <td>6</td>\n",
       "      <td>26</td>\n",
       "      <td>0</td>\n",
       "      <td>NaN</td>\n",
       "      <td>183.0</td>\n",
       "      <td>64.2600</td>\n",
       "      <td>40.0335</td>\n",
       "      <td>NaN</td>\n",
       "      <td>NaN</td>\n",
       "      <td>21.7</td>\n",
       "      <td>993.0</td>\n",
       "      <td>21.2</td>\n",
       "      <td>0.0</td>\n",
       "      <td>NNW</td>\n",
       "      <td>0.4</td>\n",
       "      <td>Aotizhongxin</td>\n",
       "    </tr>\n",
       "    <tr>\n",
       "      <th>...</th>\n",
       "      <td>...</td>\n",
       "      <td>...</td>\n",
       "      <td>...</td>\n",
       "      <td>...</td>\n",
       "      <td>...</td>\n",
       "      <td>...</td>\n",
       "      <td>...</td>\n",
       "      <td>...</td>\n",
       "      <td>...</td>\n",
       "      <td>...</td>\n",
       "      <td>...</td>\n",
       "      <td>...</td>\n",
       "      <td>...</td>\n",
       "      <td>...</td>\n",
       "      <td>...</td>\n",
       "      <td>...</td>\n",
       "      <td>...</td>\n",
       "      <td>...</td>\n",
       "    </tr>\n",
       "    <tr>\n",
       "      <th>34880</th>\n",
       "      <td>34881</td>\n",
       "      <td>2017</td>\n",
       "      <td>2</td>\n",
       "      <td>21</td>\n",
       "      <td>8</td>\n",
       "      <td>NaN</td>\n",
       "      <td>NaN</td>\n",
       "      <td>NaN</td>\n",
       "      <td>NaN</td>\n",
       "      <td>NaN</td>\n",
       "      <td>NaN</td>\n",
       "      <td>-0.3</td>\n",
       "      <td>1028.8</td>\n",
       "      <td>-15.8</td>\n",
       "      <td>0.0</td>\n",
       "      <td>SSE</td>\n",
       "      <td>1.0</td>\n",
       "      <td>Aotizhongxin</td>\n",
       "    </tr>\n",
       "    <tr>\n",
       "      <th>34883</th>\n",
       "      <td>34884</td>\n",
       "      <td>2017</td>\n",
       "      <td>2</td>\n",
       "      <td>21</td>\n",
       "      <td>11</td>\n",
       "      <td>NaN</td>\n",
       "      <td>NaN</td>\n",
       "      <td>NaN</td>\n",
       "      <td>NaN</td>\n",
       "      <td>NaN</td>\n",
       "      <td>NaN</td>\n",
       "      <td>1.3</td>\n",
       "      <td>1028.0</td>\n",
       "      <td>-16.1</td>\n",
       "      <td>0.0</td>\n",
       "      <td>S</td>\n",
       "      <td>1.5</td>\n",
       "      <td>Aotizhongxin</td>\n",
       "    </tr>\n",
       "    <tr>\n",
       "      <th>34885</th>\n",
       "      <td>34886</td>\n",
       "      <td>2017</td>\n",
       "      <td>2</td>\n",
       "      <td>21</td>\n",
       "      <td>13</td>\n",
       "      <td>NaN</td>\n",
       "      <td>NaN</td>\n",
       "      <td>NaN</td>\n",
       "      <td>NaN</td>\n",
       "      <td>NaN</td>\n",
       "      <td>NaN</td>\n",
       "      <td>-2.1</td>\n",
       "      <td>1027.4</td>\n",
       "      <td>-4.1</td>\n",
       "      <td>0.7</td>\n",
       "      <td>WSW</td>\n",
       "      <td>3.2</td>\n",
       "      <td>Aotizhongxin</td>\n",
       "    </tr>\n",
       "    <tr>\n",
       "      <th>35028</th>\n",
       "      <td>35029</td>\n",
       "      <td>2017</td>\n",
       "      <td>2</td>\n",
       "      <td>27</td>\n",
       "      <td>12</td>\n",
       "      <td>NaN</td>\n",
       "      <td>NaN</td>\n",
       "      <td>NaN</td>\n",
       "      <td>NaN</td>\n",
       "      <td>NaN</td>\n",
       "      <td>NaN</td>\n",
       "      <td>12.1</td>\n",
       "      <td>1017.3</td>\n",
       "      <td>-5.4</td>\n",
       "      <td>0.0</td>\n",
       "      <td>SSW</td>\n",
       "      <td>1.2</td>\n",
       "      <td>Aotizhongxin</td>\n",
       "    </tr>\n",
       "    <tr>\n",
       "      <th>35029</th>\n",
       "      <td>35030</td>\n",
       "      <td>2017</td>\n",
       "      <td>2</td>\n",
       "      <td>27</td>\n",
       "      <td>13</td>\n",
       "      <td>NaN</td>\n",
       "      <td>NaN</td>\n",
       "      <td>NaN</td>\n",
       "      <td>NaN</td>\n",
       "      <td>NaN</td>\n",
       "      <td>NaN</td>\n",
       "      <td>14.0</td>\n",
       "      <td>1015.8</td>\n",
       "      <td>-5.2</td>\n",
       "      <td>0.0</td>\n",
       "      <td>SSE</td>\n",
       "      <td>1.8</td>\n",
       "      <td>Aotizhongxin</td>\n",
       "    </tr>\n",
       "  </tbody>\n",
       "</table>\n",
       "<p>925 rows × 18 columns</p>\n",
       "</div>"
      ],
      "text/plain": [
       "          No  year  month  day  hour  PM2.5   PM10      SO2      NO2      CO  \\\n",
       "1509    1510  2013      5    2    21    NaN  183.0  63.0000  93.0000  1200.0   \n",
       "1837    1838  2013      5   16    13    NaN   98.0  46.0000  35.0000   600.0   \n",
       "2368    2369  2013      6    7    16    NaN  137.0  12.0000  74.0000  2500.0   \n",
       "2785    2786  2013      6   25     1    NaN   35.0   3.1416  35.1063     NaN   \n",
       "2808    2809  2013      6   26     0    NaN  183.0  64.2600  40.0335     NaN   \n",
       "...      ...   ...    ...  ...   ...    ...    ...      ...      ...     ...   \n",
       "34880  34881  2017      2   21     8    NaN    NaN      NaN      NaN     NaN   \n",
       "34883  34884  2017      2   21    11    NaN    NaN      NaN      NaN     NaN   \n",
       "34885  34886  2017      2   21    13    NaN    NaN      NaN      NaN     NaN   \n",
       "35028  35029  2017      2   27    12    NaN    NaN      NaN      NaN     NaN   \n",
       "35029  35030  2017      2   27    13    NaN    NaN      NaN      NaN     NaN   \n",
       "\n",
       "             O3  TEMP    PRES  DEWP  RAIN   wd  WSPM       station  \n",
       "1509    38.0000  18.5  1006.1   6.0   0.0   SE   2.8  Aotizhongxin  \n",
       "1837   166.0000  26.1  1009.9  10.7   0.0   SW   2.7  Aotizhongxin  \n",
       "2368     8.0000  20.7  1002.4  19.4   0.0  NNE   0.8  Aotizhongxin  \n",
       "2785    60.6186  20.8   996.5  20.5   0.0   NE   0.2  Aotizhongxin  \n",
       "2808        NaN  21.7   993.0  21.2   0.0  NNW   0.4  Aotizhongxin  \n",
       "...         ...   ...     ...   ...   ...  ...   ...           ...  \n",
       "34880       NaN  -0.3  1028.8 -15.8   0.0  SSE   1.0  Aotizhongxin  \n",
       "34883       NaN   1.3  1028.0 -16.1   0.0    S   1.5  Aotizhongxin  \n",
       "34885       NaN  -2.1  1027.4  -4.1   0.7  WSW   3.2  Aotizhongxin  \n",
       "35028       NaN  12.1  1017.3  -5.4   0.0  SSW   1.2  Aotizhongxin  \n",
       "35029       NaN  14.0  1015.8  -5.2   0.0  SSE   1.8  Aotizhongxin  \n",
       "\n",
       "[925 rows x 18 columns]"
      ]
     },
     "execution_count": 18,
     "metadata": {},
     "output_type": "execute_result"
    }
   ],
   "source": [
    "df[df['PM2.5'].isna()]"
   ]
  },
  {
   "cell_type": "markdown",
   "metadata": {},
   "source": [
    "**Insigth**\n",
    "- hal pertama yang saya sadari, semua missing value ini tiap barisnya memiliki banyak dat penting, jadi tidak akan saya drop, instead, akan saya lakukan imputation\n",
    "- imputation yang saya lakukan adalah mengganti missing values dengan nilai yang paling dominan di masing-masing kolom."
   ]
  },
  {
   "cell_type": "code",
   "execution_count": 19,
   "metadata": {},
   "outputs": [
    {
     "data": {
      "text/plain": [
       "PM2.5\n",
       "9.0      600\n",
       "10.0     590\n",
       "12.0     576\n",
       "11.0     570\n",
       "13.0     563\n",
       "        ... \n",
       "382.0      1\n",
       "541.0      1\n",
       "532.0      1\n",
       "454.0      1\n",
       "462.0      1\n",
       "Name: count, Length: 545, dtype: int64"
      ]
     },
     "execution_count": 19,
     "metadata": {},
     "output_type": "execute_result"
    }
   ],
   "source": [
    "df['PM2.5'].value_counts()"
   ]
  },
  {
   "cell_type": "code",
   "execution_count": 20,
   "metadata": {},
   "outputs": [
    {
     "name": "stderr",
     "output_type": "stream",
     "text": [
      "C:\\Users\\xrian\\AppData\\Local\\Temp\\ipykernel_9684\\3883837967.py:1: FutureWarning: A value is trying to be set on a copy of a DataFrame or Series through chained assignment using an inplace method.\n",
      "The behavior will change in pandas 3.0. This inplace method will never work because the intermediate object on which we are setting values always behaves as a copy.\n",
      "\n",
      "For example, when doing 'df[col].method(value, inplace=True)', try using 'df.method({col: value}, inplace=True)' or df[col] = df[col].method(value) instead, to perform the operation inplace on the original object.\n",
      "\n",
      "\n",
      "  df['PM2.5'].fillna(value=9.0, inplace=True)\n"
     ]
    }
   ],
   "source": [
    "df['PM2.5'].fillna(value=9.0, inplace=True)"
   ]
  },
  {
   "cell_type": "code",
   "execution_count": 21,
   "metadata": {},
   "outputs": [
    {
     "data": {
      "text/plain": [
       "PM10\n",
       "6.0      345\n",
       "18.0     322\n",
       "22.0     313\n",
       "14.0     299\n",
       "15.0     296\n",
       "        ... \n",
       "666.0      1\n",
       "773.0      1\n",
       "799.0      1\n",
       "858.0      1\n",
       "754.0      1\n",
       "Name: count, Length: 633, dtype: int64"
      ]
     },
     "execution_count": 21,
     "metadata": {},
     "output_type": "execute_result"
    }
   ],
   "source": [
    "df.PM10.value_counts()"
   ]
  },
  {
   "cell_type": "code",
   "execution_count": 22,
   "metadata": {},
   "outputs": [
    {
     "name": "stderr",
     "output_type": "stream",
     "text": [
      "C:\\Users\\xrian\\AppData\\Local\\Temp\\ipykernel_9684\\4247945758.py:1: FutureWarning: A value is trying to be set on a copy of a DataFrame or Series through chained assignment using an inplace method.\n",
      "The behavior will change in pandas 3.0. This inplace method will never work because the intermediate object on which we are setting values always behaves as a copy.\n",
      "\n",
      "For example, when doing 'df[col].method(value, inplace=True)', try using 'df.method({col: value}, inplace=True)' or df[col] = df[col].method(value) instead, to perform the operation inplace on the original object.\n",
      "\n",
      "\n",
      "  df.PM10.fillna(value=6.0, inplace=True)\n"
     ]
    }
   ],
   "source": [
    "df.PM10.fillna(value=6.0, inplace=True)"
   ]
  },
  {
   "cell_type": "code",
   "execution_count": 23,
   "metadata": {},
   "outputs": [
    {
     "data": {
      "text/plain": [
       "SO2\n",
       "2.0      6706\n",
       "3.0      2275\n",
       "4.0      1901\n",
       "5.0      1680\n",
       "6.0      1493\n",
       "         ... \n",
       "5.4         1\n",
       "341.0       1\n",
       "229.0       1\n",
       "190.0       1\n",
       "157.0       1\n",
       "Name: count, Length: 330, dtype: int64"
      ]
     },
     "execution_count": 23,
     "metadata": {},
     "output_type": "execute_result"
    }
   ],
   "source": [
    "df['SO2'].value_counts()"
   ]
  },
  {
   "cell_type": "code",
   "execution_count": 24,
   "metadata": {},
   "outputs": [
    {
     "name": "stderr",
     "output_type": "stream",
     "text": [
      "C:\\Users\\xrian\\AppData\\Local\\Temp\\ipykernel_9684\\193300461.py:1: FutureWarning: A value is trying to be set on a copy of a DataFrame or Series through chained assignment using an inplace method.\n",
      "The behavior will change in pandas 3.0. This inplace method will never work because the intermediate object on which we are setting values always behaves as a copy.\n",
      "\n",
      "For example, when doing 'df[col].method(value, inplace=True)', try using 'df.method({col: value}, inplace=True)' or df[col] = df[col].method(value) instead, to perform the operation inplace on the original object.\n",
      "\n",
      "\n",
      "  df['SO2'].fillna(value=2.0000, inplace=True)\n"
     ]
    }
   ],
   "source": [
    "df['SO2'].fillna(value=2.0000, inplace=True)"
   ]
  },
  {
   "cell_type": "code",
   "execution_count": 25,
   "metadata": {},
   "outputs": [
    {
     "data": {
      "text/plain": [
       "NO2\n",
       "26.0     408\n",
       "42.0     394\n",
       "44.0     393\n",
       "28.0     392\n",
       "36.0     391\n",
       "        ... \n",
       "97.8       1\n",
       "263.0      1\n",
       "215.0      1\n",
       "240.0      1\n",
       "290.0      1\n",
       "Name: count, Length: 465, dtype: int64"
      ]
     },
     "execution_count": 25,
     "metadata": {},
     "output_type": "execute_result"
    }
   ],
   "source": [
    "df['NO2'].value_counts()"
   ]
  },
  {
   "cell_type": "code",
   "execution_count": 26,
   "metadata": {},
   "outputs": [
    {
     "name": "stderr",
     "output_type": "stream",
     "text": [
      "C:\\Users\\xrian\\AppData\\Local\\Temp\\ipykernel_9684\\4236321565.py:1: FutureWarning: A value is trying to be set on a copy of a DataFrame or Series through chained assignment using an inplace method.\n",
      "The behavior will change in pandas 3.0. This inplace method will never work because the intermediate object on which we are setting values always behaves as a copy.\n",
      "\n",
      "For example, when doing 'df[col].method(value, inplace=True)', try using 'df.method({col: value}, inplace=True)' or df[col] = df[col].method(value) instead, to perform the operation inplace on the original object.\n",
      "\n",
      "\n",
      "  df['NO2'].fillna(value=26.0000, inplace=True)\n"
     ]
    }
   ],
   "source": [
    "df['NO2'].fillna(value=26.0000, inplace=True)"
   ]
  },
  {
   "cell_type": "code",
   "execution_count": 27,
   "metadata": {},
   "outputs": [
    {
     "data": {
      "text/plain": [
       "CO\n",
       "400.0     2877\n",
       "500.0     2728\n",
       "300.0     2578\n",
       "600.0     2561\n",
       "700.0     2349\n",
       "          ... \n",
       "9200.0       2\n",
       "3899.0       1\n",
       "4599.0       1\n",
       "5599.0       1\n",
       "9300.0       1\n",
       "Name: count, Length: 112, dtype: int64"
      ]
     },
     "execution_count": 27,
     "metadata": {},
     "output_type": "execute_result"
    }
   ],
   "source": [
    "df['CO'].value_counts()"
   ]
  },
  {
   "cell_type": "code",
   "execution_count": 28,
   "metadata": {},
   "outputs": [
    {
     "name": "stderr",
     "output_type": "stream",
     "text": [
      "C:\\Users\\xrian\\AppData\\Local\\Temp\\ipykernel_9684\\737440256.py:1: FutureWarning: A value is trying to be set on a copy of a DataFrame or Series through chained assignment using an inplace method.\n",
      "The behavior will change in pandas 3.0. This inplace method will never work because the intermediate object on which we are setting values always behaves as a copy.\n",
      "\n",
      "For example, when doing 'df[col].method(value, inplace=True)', try using 'df.method({col: value}, inplace=True)' or df[col] = df[col].method(value) instead, to perform the operation inplace on the original object.\n",
      "\n",
      "\n",
      "  df['CO'].fillna(value=400.0, inplace=True)\n"
     ]
    }
   ],
   "source": [
    "df['CO'].fillna(value=400.0, inplace=True)"
   ]
  },
  {
   "cell_type": "code",
   "execution_count": 29,
   "metadata": {},
   "outputs": [
    {
     "data": {
      "text/plain": [
       "O3\n",
       "2.0000      4224\n",
       "1.0000      1520\n",
       "3.0000       582\n",
       "4.0000       536\n",
       "5.0000       449\n",
       "            ... \n",
       "350.0000       1\n",
       "423.0000       1\n",
       "130.6620       1\n",
       "39.4128        1\n",
       "98.3178        1\n",
       "Name: count, Length: 831, dtype: int64"
      ]
     },
     "execution_count": 29,
     "metadata": {},
     "output_type": "execute_result"
    }
   ],
   "source": [
    "df['O3'].value_counts()"
   ]
  },
  {
   "cell_type": "code",
   "execution_count": 30,
   "metadata": {},
   "outputs": [
    {
     "name": "stderr",
     "output_type": "stream",
     "text": [
      "C:\\Users\\xrian\\AppData\\Local\\Temp\\ipykernel_9684\\2604979620.py:1: FutureWarning: A value is trying to be set on a copy of a DataFrame or Series through chained assignment using an inplace method.\n",
      "The behavior will change in pandas 3.0. This inplace method will never work because the intermediate object on which we are setting values always behaves as a copy.\n",
      "\n",
      "For example, when doing 'df[col].method(value, inplace=True)', try using 'df.method({col: value}, inplace=True)' or df[col] = df[col].method(value) instead, to perform the operation inplace on the original object.\n",
      "\n",
      "\n",
      "  df['O3'].fillna(value=2.0000, inplace=True)\n"
     ]
    }
   ],
   "source": [
    "df['O3'].fillna(value=2.0000, inplace=True)"
   ]
  },
  {
   "cell_type": "code",
   "execution_count": 31,
   "metadata": {},
   "outputs": [
    {
     "data": {
      "text/plain": [
       "TEMP\n",
       " 3.000000    249\n",
       " 1.000000    240\n",
       " 2.000000    203\n",
       " 0.000000    196\n",
       "-1.000000    186\n",
       "            ... \n",
       "-0.980000      1\n",
       "-0.066667      1\n",
       "-3.150000      1\n",
       "-0.725000      1\n",
       " 0.233333      1\n",
       "Name: count, Length: 967, dtype: int64"
      ]
     },
     "execution_count": 31,
     "metadata": {},
     "output_type": "execute_result"
    }
   ],
   "source": [
    "df['TEMP'].value_counts()"
   ]
  },
  {
   "cell_type": "code",
   "execution_count": 32,
   "metadata": {},
   "outputs": [
    {
     "name": "stderr",
     "output_type": "stream",
     "text": [
      "C:\\Users\\xrian\\AppData\\Local\\Temp\\ipykernel_9684\\3266292851.py:1: FutureWarning: A value is trying to be set on a copy of a DataFrame or Series through chained assignment using an inplace method.\n",
      "The behavior will change in pandas 3.0. This inplace method will never work because the intermediate object on which we are setting values always behaves as a copy.\n",
      "\n",
      "For example, when doing 'df[col].method(value, inplace=True)', try using 'df.method({col: value}, inplace=True)' or df[col] = df[col].method(value) instead, to perform the operation inplace on the original object.\n",
      "\n",
      "\n",
      "  df['TEMP'].fillna(value=3.0000, inplace=True)\n"
     ]
    }
   ],
   "source": [
    "df['TEMP'].fillna(value=3.0000, inplace=True)"
   ]
  },
  {
   "cell_type": "code",
   "execution_count": 33,
   "metadata": {},
   "outputs": [
    {
     "data": {
      "text/plain": [
       "PRES\n",
       "1023.000000    256\n",
       "1019.000000    252\n",
       "1024.000000    249\n",
       "1025.000000    248\n",
       "1020.000000    239\n",
       "              ... \n",
       "1030.666667      1\n",
       "1022.666667      1\n",
       "1025.666667      1\n",
       "1033.750000      1\n",
       "1034.250000      1\n",
       "Name: count, Length: 600, dtype: int64"
      ]
     },
     "execution_count": 33,
     "metadata": {},
     "output_type": "execute_result"
    }
   ],
   "source": [
    "df['PRES'].value_counts()"
   ]
  },
  {
   "cell_type": "code",
   "execution_count": 34,
   "metadata": {},
   "outputs": [
    {
     "name": "stderr",
     "output_type": "stream",
     "text": [
      "C:\\Users\\xrian\\AppData\\Local\\Temp\\ipykernel_9684\\1385875672.py:1: FutureWarning: A value is trying to be set on a copy of a DataFrame or Series through chained assignment using an inplace method.\n",
      "The behavior will change in pandas 3.0. This inplace method will never work because the intermediate object on which we are setting values always behaves as a copy.\n",
      "\n",
      "For example, when doing 'df[col].method(value, inplace=True)', try using 'df.method({col: value}, inplace=True)' or df[col] = df[col].method(value) instead, to perform the operation inplace on the original object.\n",
      "\n",
      "\n",
      "  df['PRES'].fillna(value=1023.00\t, inplace=True)\n"
     ]
    }
   ],
   "source": [
    "df['PRES'].fillna(value=1023.00\t, inplace=True)"
   ]
  },
  {
   "cell_type": "code",
   "execution_count": 35,
   "metadata": {},
   "outputs": [
    {
     "data": {
      "text/plain": [
       "DEWP\n",
       " 17.6    143\n",
       " 17.0    133\n",
       " 17.2    129\n",
       " 18.8    128\n",
       " 17.8    126\n",
       "        ... \n",
       "-32.4      1\n",
       "-29.7      1\n",
       "-31.8      1\n",
       "-29.5      1\n",
       "-30.1      1\n",
       "Name: count, Length: 604, dtype: int64"
      ]
     },
     "execution_count": 35,
     "metadata": {},
     "output_type": "execute_result"
    }
   ],
   "source": [
    "df['DEWP'].value_counts()"
   ]
  },
  {
   "cell_type": "code",
   "execution_count": 36,
   "metadata": {},
   "outputs": [
    {
     "name": "stderr",
     "output_type": "stream",
     "text": [
      "C:\\Users\\xrian\\AppData\\Local\\Temp\\ipykernel_9684\\2028795341.py:1: FutureWarning: A value is trying to be set on a copy of a DataFrame or Series through chained assignment using an inplace method.\n",
      "The behavior will change in pandas 3.0. This inplace method will never work because the intermediate object on which we are setting values always behaves as a copy.\n",
      "\n",
      "For example, when doing 'df[col].method(value, inplace=True)', try using 'df.method({col: value}, inplace=True)' or df[col] = df[col].method(value) instead, to perform the operation inplace on the original object.\n",
      "\n",
      "\n",
      "  df['DEWP'].fillna(value=17.6\t, inplace=True)\n"
     ]
    }
   ],
   "source": [
    "df['DEWP'].fillna(value=17.6\t, inplace=True)"
   ]
  },
  {
   "cell_type": "code",
   "execution_count": 37,
   "metadata": {},
   "outputs": [
    {
     "data": {
      "text/plain": [
       "RAIN\n",
       "0.0     33664\n",
       "0.1       314\n",
       "0.2       161\n",
       "0.3       107\n",
       "0.5        73\n",
       "        ...  \n",
       "15.3        1\n",
       "21.7        1\n",
       "46.4        1\n",
       "14.0        1\n",
       "5.1         1\n",
       "Name: count, Length: 127, dtype: int64"
      ]
     },
     "execution_count": 37,
     "metadata": {},
     "output_type": "execute_result"
    }
   ],
   "source": [
    "df['RAIN'].value_counts()"
   ]
  },
  {
   "cell_type": "code",
   "execution_count": 38,
   "metadata": {},
   "outputs": [
    {
     "name": "stderr",
     "output_type": "stream",
     "text": [
      "C:\\Users\\xrian\\AppData\\Local\\Temp\\ipykernel_9684\\1016405057.py:1: FutureWarning: A value is trying to be set on a copy of a DataFrame or Series through chained assignment using an inplace method.\n",
      "The behavior will change in pandas 3.0. This inplace method will never work because the intermediate object on which we are setting values always behaves as a copy.\n",
      "\n",
      "For example, when doing 'df[col].method(value, inplace=True)', try using 'df.method({col: value}, inplace=True)' or df[col] = df[col].method(value) instead, to perform the operation inplace on the original object.\n",
      "\n",
      "\n",
      "  df['RAIN'].fillna(value=0.0\t, inplace=True)\n"
     ]
    }
   ],
   "source": [
    "df['RAIN'].fillna(value=0.0\t, inplace=True)"
   ]
  },
  {
   "cell_type": "code",
   "execution_count": 39,
   "metadata": {},
   "outputs": [
    {
     "data": {
      "text/plain": [
       "wd\n",
       "NE     5140\n",
       "ENE    3950\n",
       "SW     3359\n",
       "E      2608\n",
       "NNE    2445\n",
       "WSW    2212\n",
       "SSW    2098\n",
       "N      2066\n",
       "NW     1860\n",
       "ESE    1717\n",
       "NNW    1589\n",
       "SE     1341\n",
       "S      1304\n",
       "W      1171\n",
       "WNW    1101\n",
       "SSE    1022\n",
       "Name: count, dtype: int64"
      ]
     },
     "execution_count": 39,
     "metadata": {},
     "output_type": "execute_result"
    }
   ],
   "source": [
    "df['wd'].value_counts()"
   ]
  },
  {
   "cell_type": "code",
   "execution_count": 40,
   "metadata": {},
   "outputs": [
    {
     "name": "stderr",
     "output_type": "stream",
     "text": [
      "C:\\Users\\xrian\\AppData\\Local\\Temp\\ipykernel_9684\\1611638019.py:1: FutureWarning: A value is trying to be set on a copy of a DataFrame or Series through chained assignment using an inplace method.\n",
      "The behavior will change in pandas 3.0. This inplace method will never work because the intermediate object on which we are setting values always behaves as a copy.\n",
      "\n",
      "For example, when doing 'df[col].method(value, inplace=True)', try using 'df.method({col: value}, inplace=True)' or df[col] = df[col].method(value) instead, to perform the operation inplace on the original object.\n",
      "\n",
      "\n",
      "  df['wd'].fillna(value=\"NE\"\t, inplace=True)\n"
     ]
    }
   ],
   "source": [
    "df['wd'].fillna(value=\"NE\"\t, inplace=True)"
   ]
  },
  {
   "cell_type": "code",
   "execution_count": 41,
   "metadata": {},
   "outputs": [
    {
     "data": {
      "text/plain": [
       "WSPM\n",
       "1.2    1891\n",
       "1.1    1842\n",
       "1.0    1747\n",
       "1.3    1640\n",
       "0.9    1604\n",
       "       ... \n",
       "8.5       1\n",
       "9.2       1\n",
       "8.8       1\n",
       "8.9       1\n",
       "8.6       1\n",
       "Name: count, Length: 91, dtype: int64"
      ]
     },
     "execution_count": 41,
     "metadata": {},
     "output_type": "execute_result"
    }
   ],
   "source": [
    "df['WSPM'].value_counts()"
   ]
  },
  {
   "cell_type": "code",
   "execution_count": 42,
   "metadata": {},
   "outputs": [
    {
     "name": "stderr",
     "output_type": "stream",
     "text": [
      "C:\\Users\\xrian\\AppData\\Local\\Temp\\ipykernel_9684\\434575848.py:1: FutureWarning: A value is trying to be set on a copy of a DataFrame or Series through chained assignment using an inplace method.\n",
      "The behavior will change in pandas 3.0. This inplace method will never work because the intermediate object on which we are setting values always behaves as a copy.\n",
      "\n",
      "For example, when doing 'df[col].method(value, inplace=True)', try using 'df.method({col: value}, inplace=True)' or df[col] = df[col].method(value) instead, to perform the operation inplace on the original object.\n",
      "\n",
      "\n",
      "  df['WSPM'].fillna(value=1.2\t, inplace=True)\n"
     ]
    }
   ],
   "source": [
    "df['WSPM'].fillna(value=1.2\t, inplace=True)\n"
   ]
  },
  {
   "cell_type": "code",
   "execution_count": 43,
   "metadata": {},
   "outputs": [
    {
     "data": {
      "text/plain": [
       "No         0\n",
       "year       0\n",
       "month      0\n",
       "day        0\n",
       "hour       0\n",
       "PM2.5      0\n",
       "PM10       0\n",
       "SO2        0\n",
       "NO2        0\n",
       "CO         0\n",
       "O3         0\n",
       "TEMP       0\n",
       "PRES       0\n",
       "DEWP       0\n",
       "RAIN       0\n",
       "wd         0\n",
       "WSPM       0\n",
       "station    0\n",
       "dtype: int64"
      ]
     },
     "execution_count": 43,
     "metadata": {},
     "output_type": "execute_result"
    }
   ],
   "source": [
    "df.isna().sum()"
   ]
  },
  {
   "cell_type": "markdown",
   "metadata": {},
   "source": [
    "**Insigth**\n",
    "- semua data kolom yang awalnya memiliki missing values sudah saya atasi dengan imputation"
   ]
  },
  {
   "cell_type": "markdown",
   "metadata": {},
   "source": [
    "## Exploratory Data Analysis (EDA)"
   ]
  },
  {
   "cell_type": "markdown",
   "metadata": {},
   "source": [
    "### Explore ..."
   ]
  },
  {
   "cell_type": "code",
   "execution_count": 44,
   "metadata": {},
   "outputs": [
    {
     "data": {
      "text/html": [
       "<div>\n",
       "<style scoped>\n",
       "    .dataframe tbody tr th:only-of-type {\n",
       "        vertical-align: middle;\n",
       "    }\n",
       "\n",
       "    .dataframe tbody tr th {\n",
       "        vertical-align: top;\n",
       "    }\n",
       "\n",
       "    .dataframe thead th {\n",
       "        text-align: right;\n",
       "    }\n",
       "</style>\n",
       "<table border=\"1\" class=\"dataframe\">\n",
       "  <thead>\n",
       "    <tr style=\"text-align: right;\">\n",
       "      <th></th>\n",
       "      <th>No</th>\n",
       "      <th>year</th>\n",
       "      <th>month</th>\n",
       "      <th>day</th>\n",
       "      <th>hour</th>\n",
       "      <th>PM2.5</th>\n",
       "      <th>PM10</th>\n",
       "      <th>SO2</th>\n",
       "      <th>NO2</th>\n",
       "      <th>CO</th>\n",
       "      <th>O3</th>\n",
       "      <th>TEMP</th>\n",
       "      <th>PRES</th>\n",
       "      <th>DEWP</th>\n",
       "      <th>RAIN</th>\n",
       "      <th>wd</th>\n",
       "      <th>WSPM</th>\n",
       "      <th>station</th>\n",
       "    </tr>\n",
       "  </thead>\n",
       "  <tbody>\n",
       "    <tr>\n",
       "      <th>count</th>\n",
       "      <td>35064.000000</td>\n",
       "      <td>35064.000000</td>\n",
       "      <td>35064.000000</td>\n",
       "      <td>35064.000000</td>\n",
       "      <td>35064.000000</td>\n",
       "      <td>35064.000000</td>\n",
       "      <td>35064.000000</td>\n",
       "      <td>35064.000000</td>\n",
       "      <td>35064.000000</td>\n",
       "      <td>35064.000000</td>\n",
       "      <td>35064.000000</td>\n",
       "      <td>35064.000000</td>\n",
       "      <td>35064.000000</td>\n",
       "      <td>35064.000000</td>\n",
       "      <td>35064.000000</td>\n",
       "      <td>35064</td>\n",
       "      <td>35064.000000</td>\n",
       "      <td>35064</td>\n",
       "    </tr>\n",
       "    <tr>\n",
       "      <th>unique</th>\n",
       "      <td>NaN</td>\n",
       "      <td>NaN</td>\n",
       "      <td>NaN</td>\n",
       "      <td>NaN</td>\n",
       "      <td>NaN</td>\n",
       "      <td>NaN</td>\n",
       "      <td>NaN</td>\n",
       "      <td>NaN</td>\n",
       "      <td>NaN</td>\n",
       "      <td>NaN</td>\n",
       "      <td>NaN</td>\n",
       "      <td>NaN</td>\n",
       "      <td>NaN</td>\n",
       "      <td>NaN</td>\n",
       "      <td>NaN</td>\n",
       "      <td>16</td>\n",
       "      <td>NaN</td>\n",
       "      <td>1</td>\n",
       "    </tr>\n",
       "    <tr>\n",
       "      <th>top</th>\n",
       "      <td>NaN</td>\n",
       "      <td>NaN</td>\n",
       "      <td>NaN</td>\n",
       "      <td>NaN</td>\n",
       "      <td>NaN</td>\n",
       "      <td>NaN</td>\n",
       "      <td>NaN</td>\n",
       "      <td>NaN</td>\n",
       "      <td>NaN</td>\n",
       "      <td>NaN</td>\n",
       "      <td>NaN</td>\n",
       "      <td>NaN</td>\n",
       "      <td>NaN</td>\n",
       "      <td>NaN</td>\n",
       "      <td>NaN</td>\n",
       "      <td>NE</td>\n",
       "      <td>NaN</td>\n",
       "      <td>Aotizhongxin</td>\n",
       "    </tr>\n",
       "    <tr>\n",
       "      <th>freq</th>\n",
       "      <td>NaN</td>\n",
       "      <td>NaN</td>\n",
       "      <td>NaN</td>\n",
       "      <td>NaN</td>\n",
       "      <td>NaN</td>\n",
       "      <td>NaN</td>\n",
       "      <td>NaN</td>\n",
       "      <td>NaN</td>\n",
       "      <td>NaN</td>\n",
       "      <td>NaN</td>\n",
       "      <td>NaN</td>\n",
       "      <td>NaN</td>\n",
       "      <td>NaN</td>\n",
       "      <td>NaN</td>\n",
       "      <td>NaN</td>\n",
       "      <td>5221</td>\n",
       "      <td>NaN</td>\n",
       "      <td>35064</td>\n",
       "    </tr>\n",
       "    <tr>\n",
       "      <th>mean</th>\n",
       "      <td>17532.500000</td>\n",
       "      <td>2014.662560</td>\n",
       "      <td>6.522930</td>\n",
       "      <td>15.729637</td>\n",
       "      <td>11.500000</td>\n",
       "      <td>80.827438</td>\n",
       "      <td>107.929563</td>\n",
       "      <td>16.965895</td>\n",
       "      <td>58.334128</td>\n",
       "      <td>1219.236767</td>\n",
       "      <td>53.688705</td>\n",
       "      <td>13.578570</td>\n",
       "      <td>1011.853281</td>\n",
       "      <td>3.131320</td>\n",
       "      <td>0.067383</td>\n",
       "      <td>NaN</td>\n",
       "      <td>1.708293</td>\n",
       "      <td>NaN</td>\n",
       "    </tr>\n",
       "    <tr>\n",
       "      <th>std</th>\n",
       "      <td>10122.249256</td>\n",
       "      <td>1.177213</td>\n",
       "      <td>3.448752</td>\n",
       "      <td>8.800218</td>\n",
       "      <td>6.922285</td>\n",
       "      <td>81.902935</td>\n",
       "      <td>95.388384</td>\n",
       "      <td>22.652509</td>\n",
       "      <td>36.997826</td>\n",
       "      <td>1205.050802</td>\n",
       "      <td>57.685260</td>\n",
       "      <td>11.398647</td>\n",
       "      <td>10.404487</td>\n",
       "      <td>13.689356</td>\n",
       "      <td>0.909798</td>\n",
       "      <td>NaN</td>\n",
       "      <td>1.203874</td>\n",
       "      <td>NaN</td>\n",
       "    </tr>\n",
       "    <tr>\n",
       "      <th>min</th>\n",
       "      <td>1.000000</td>\n",
       "      <td>2013.000000</td>\n",
       "      <td>1.000000</td>\n",
       "      <td>1.000000</td>\n",
       "      <td>0.000000</td>\n",
       "      <td>3.000000</td>\n",
       "      <td>2.000000</td>\n",
       "      <td>0.285600</td>\n",
       "      <td>2.000000</td>\n",
       "      <td>100.000000</td>\n",
       "      <td>0.214200</td>\n",
       "      <td>-16.800000</td>\n",
       "      <td>985.900000</td>\n",
       "      <td>-35.300000</td>\n",
       "      <td>0.000000</td>\n",
       "      <td>NaN</td>\n",
       "      <td>0.000000</td>\n",
       "      <td>NaN</td>\n",
       "    </tr>\n",
       "    <tr>\n",
       "      <th>25%</th>\n",
       "      <td>8766.750000</td>\n",
       "      <td>2014.000000</td>\n",
       "      <td>4.000000</td>\n",
       "      <td>8.000000</td>\n",
       "      <td>5.750000</td>\n",
       "      <td>20.000000</td>\n",
       "      <td>35.000000</td>\n",
       "      <td>3.000000</td>\n",
       "      <td>28.000000</td>\n",
       "      <td>500.000000</td>\n",
       "      <td>5.000000</td>\n",
       "      <td>3.100000</td>\n",
       "      <td>1003.300000</td>\n",
       "      <td>-8.100000</td>\n",
       "      <td>0.000000</td>\n",
       "      <td>NaN</td>\n",
       "      <td>0.900000</td>\n",
       "      <td>NaN</td>\n",
       "    </tr>\n",
       "    <tr>\n",
       "      <th>50%</th>\n",
       "      <td>17532.500000</td>\n",
       "      <td>2015.000000</td>\n",
       "      <td>7.000000</td>\n",
       "      <td>16.000000</td>\n",
       "      <td>11.500000</td>\n",
       "      <td>56.000000</td>\n",
       "      <td>84.000000</td>\n",
       "      <td>8.000000</td>\n",
       "      <td>52.000000</td>\n",
       "      <td>800.000000</td>\n",
       "      <td>38.984400</td>\n",
       "      <td>14.500000</td>\n",
       "      <td>1011.400000</td>\n",
       "      <td>3.800000</td>\n",
       "      <td>0.000000</td>\n",
       "      <td>NaN</td>\n",
       "      <td>1.400000</td>\n",
       "      <td>NaN</td>\n",
       "    </tr>\n",
       "    <tr>\n",
       "      <th>75%</th>\n",
       "      <td>26298.250000</td>\n",
       "      <td>2016.000000</td>\n",
       "      <td>10.000000</td>\n",
       "      <td>23.000000</td>\n",
       "      <td>17.250000</td>\n",
       "      <td>112.000000</td>\n",
       "      <td>153.000000</td>\n",
       "      <td>21.000000</td>\n",
       "      <td>81.000000</td>\n",
       "      <td>1500.000000</td>\n",
       "      <td>80.000000</td>\n",
       "      <td>23.300000</td>\n",
       "      <td>1020.100000</td>\n",
       "      <td>15.700000</td>\n",
       "      <td>0.000000</td>\n",
       "      <td>NaN</td>\n",
       "      <td>2.200000</td>\n",
       "      <td>NaN</td>\n",
       "    </tr>\n",
       "    <tr>\n",
       "      <th>max</th>\n",
       "      <td>35064.000000</td>\n",
       "      <td>2017.000000</td>\n",
       "      <td>12.000000</td>\n",
       "      <td>31.000000</td>\n",
       "      <td>23.000000</td>\n",
       "      <td>898.000000</td>\n",
       "      <td>984.000000</td>\n",
       "      <td>341.000000</td>\n",
       "      <td>290.000000</td>\n",
       "      <td>10000.000000</td>\n",
       "      <td>423.000000</td>\n",
       "      <td>40.500000</td>\n",
       "      <td>1042.000000</td>\n",
       "      <td>28.500000</td>\n",
       "      <td>72.500000</td>\n",
       "      <td>NaN</td>\n",
       "      <td>11.200000</td>\n",
       "      <td>NaN</td>\n",
       "    </tr>\n",
       "  </tbody>\n",
       "</table>\n",
       "</div>"
      ],
      "text/plain": [
       "                  No          year         month           day          hour  \\\n",
       "count   35064.000000  35064.000000  35064.000000  35064.000000  35064.000000   \n",
       "unique           NaN           NaN           NaN           NaN           NaN   \n",
       "top              NaN           NaN           NaN           NaN           NaN   \n",
       "freq             NaN           NaN           NaN           NaN           NaN   \n",
       "mean    17532.500000   2014.662560      6.522930     15.729637     11.500000   \n",
       "std     10122.249256      1.177213      3.448752      8.800218      6.922285   \n",
       "min         1.000000   2013.000000      1.000000      1.000000      0.000000   \n",
       "25%      8766.750000   2014.000000      4.000000      8.000000      5.750000   \n",
       "50%     17532.500000   2015.000000      7.000000     16.000000     11.500000   \n",
       "75%     26298.250000   2016.000000     10.000000     23.000000     17.250000   \n",
       "max     35064.000000   2017.000000     12.000000     31.000000     23.000000   \n",
       "\n",
       "               PM2.5          PM10           SO2           NO2            CO  \\\n",
       "count   35064.000000  35064.000000  35064.000000  35064.000000  35064.000000   \n",
       "unique           NaN           NaN           NaN           NaN           NaN   \n",
       "top              NaN           NaN           NaN           NaN           NaN   \n",
       "freq             NaN           NaN           NaN           NaN           NaN   \n",
       "mean       80.827438    107.929563     16.965895     58.334128   1219.236767   \n",
       "std        81.902935     95.388384     22.652509     36.997826   1205.050802   \n",
       "min         3.000000      2.000000      0.285600      2.000000    100.000000   \n",
       "25%        20.000000     35.000000      3.000000     28.000000    500.000000   \n",
       "50%        56.000000     84.000000      8.000000     52.000000    800.000000   \n",
       "75%       112.000000    153.000000     21.000000     81.000000   1500.000000   \n",
       "max       898.000000    984.000000    341.000000    290.000000  10000.000000   \n",
       "\n",
       "                  O3          TEMP          PRES          DEWP          RAIN  \\\n",
       "count   35064.000000  35064.000000  35064.000000  35064.000000  35064.000000   \n",
       "unique           NaN           NaN           NaN           NaN           NaN   \n",
       "top              NaN           NaN           NaN           NaN           NaN   \n",
       "freq             NaN           NaN           NaN           NaN           NaN   \n",
       "mean       53.688705     13.578570   1011.853281      3.131320      0.067383   \n",
       "std        57.685260     11.398647     10.404487     13.689356      0.909798   \n",
       "min         0.214200    -16.800000    985.900000    -35.300000      0.000000   \n",
       "25%         5.000000      3.100000   1003.300000     -8.100000      0.000000   \n",
       "50%        38.984400     14.500000   1011.400000      3.800000      0.000000   \n",
       "75%        80.000000     23.300000   1020.100000     15.700000      0.000000   \n",
       "max       423.000000     40.500000   1042.000000     28.500000     72.500000   \n",
       "\n",
       "           wd          WSPM       station  \n",
       "count   35064  35064.000000         35064  \n",
       "unique     16           NaN             1  \n",
       "top        NE           NaN  Aotizhongxin  \n",
       "freq     5221           NaN         35064  \n",
       "mean      NaN      1.708293           NaN  \n",
       "std       NaN      1.203874           NaN  \n",
       "min       NaN      0.000000           NaN  \n",
       "25%       NaN      0.900000           NaN  \n",
       "50%       NaN      1.400000           NaN  \n",
       "75%       NaN      2.200000           NaN  \n",
       "max       NaN     11.200000           NaN  "
      ]
     },
     "execution_count": 44,
     "metadata": {},
     "output_type": "execute_result"
    }
   ],
   "source": [
    "df.describe(include=\"all\")"
   ]
  },
  {
   "cell_type": "markdown",
   "metadata": {},
   "source": [
    "**Insight:**\n",
    "- PM2.5 dan PM10\n",
    "  - Kedua parameter ini menunjukkan distribusi yang condong ke kanan (positif skewness), dengan beberapa nilai ekstrem yang jauh lebih tinggi dari rata-rata, seperti nilai maks PM2.5 yang bernilai 898 µg/m³ dan nilai maks PM10 984 µg/m³.\n",
    "- CO\n",
    "  - CO memiliki variasi yang sangat besar, dengan nilai maksimum 10,000 µg/m³ .\n",
    "  - Outlier ekstrem pada CO kemungkinan disebabkan oleh aktivitas pembakaran bahan bakar fosil atau industri.\n",
    "- SO2, NO2, O3\n",
    "  - SO2 dan NO2 relatif rendah dibandingkan CO dan PM2.5.\n",
    "  - O3 memiliki distribusi yang lebih merata, dengan nilai maksimum 423 µg/m³ ."
   ]
  },
  {
   "cell_type": "code",
   "execution_count": 52,
   "metadata": {},
   "outputs": [
    {
     "name": "stdout",
     "output_type": "stream",
     "text": [
      "   year      PM2.5        PM10\n",
      "0  2013  82.282544  112.842320\n",
      "1  2014  86.080651  115.604829\n",
      "2  2015  80.315502  110.847477\n",
      "3  2016  72.792464   93.527778\n",
      "4  2017  93.793079  106.255650\n"
     ]
    }
   ],
   "source": [
    "PM_yearly_data = df.groupby('year')[['PM2.5', 'PM10']].mean().reset_index()\n",
    "\n",
    "print(PM_yearly_data)\n"
   ]
  },
  {
   "cell_type": "markdown",
   "metadata": {},
   "source": [
    "**Insight:**\n",
    "\n",
    "- Tren PM2.5 dan PM10 Tahunan:\n",
    "    - Dari tahun 2013 hingga 2014, terjadi peningkatan konsentrasi PM2.5 dari 82.29 µg/m³ menjadi 86.09 µg/m³.\n",
    "    - Pada tahun 2015, konsentrasi PM2.5 mengalami penurunan menjadi 80.32 µg/m³.\n",
    "    - Tahun 2016 menunjukkan penurunan yang lebih signifikan dengan nilai 72.79 µg/m³.\n",
    "    - Namun, pada tahun 2017, terjadi peningkatan kembali menjadi 93.79 µg/m³.\n",
    "    - Untuk PM10, trennya mirip dengan PM2.5. Peningkatan dari 112.84 µg/m³ pada tahun 2013 menjadi 115.60 µg/m³ pada tahun 2014.\n",
    "    - Penurunan terjadi pada tahun 2015 (110.84 µg/m³) dan 2016 (93.53 µg/m³).\n",
    "    - Pada tahun 2017, konsentrasi PM10 meningkat menjadi 106.26 µg/m³.\n",
    "- Perbandingan PM2.5 dan PM10:\n",
    "    - Secara umum, konsentrasi PM10 selalu lebih tinggi dibandingkan PM2.5 dalam setiap tahunnya.\n",
    "    - Meskipun demikian, tren fluktuatif yang sama-sama terjadi pada kedua parameter ini menunjukkan adanya faktor-faktor yang mempengaruhi polusi partikel di Aotizhongxin secara bersamaan."
   ]
  },
  {
   "cell_type": "code",
   "execution_count": null,
   "metadata": {},
   "outputs": [
    {
     "name": "stdout",
     "output_type": "stream",
     "text": [
      "   year        SO2        NO2           CO         O3\n",
      "0  2013  23.281569  63.168010  1086.004630  46.039820\n",
      "1  2014  20.091724  61.407637  1136.917808  46.237591\n",
      "2  2015  14.218356  60.488710  1379.394977  62.166324\n",
      "3  2016  10.724841  47.880351  1183.913934  60.188069\n",
      "4  2017  20.585452  65.769068  1647.810734  46.690678\n"
     ]
    }
   ],
   "source": [
    "pollutant_yearly_trend = df.groupby('year')[['SO2', 'NO2', 'CO', 'O3']].mean().reset_index()\n",
    "\n",
    "print(pollutant_yearly_trend)"
   ]
  },
  {
   "cell_type": "markdown",
   "metadata": {},
   "source": [
    "**Insight:**\n",
    "\n",
    "- Tren SO2 Tahunan:\n",
    "    - Konsentrasi SO2 cenderung menurun dari tahun 2013 hingga 2016, dimulai dari 23.28 µg/m³ pada tahun 2013 menjadi 10.72 µg/m³ pada tahun 2016.\n",
    "    - Pada tahun 2017, terjadi peningkatan kembali menjadi 20.58 µg/m³.\n",
    "- Tren NO2 Tahunan:\n",
    "    - NO2 menunjukkan variasi yang cukup stabil dengan sedikit penurunan dari tahun 2013 hingga 2016, mulai dari 63.17 µg/m³ menjadi 47.88 µg/m³.\n",
    "    - Pada tahun 2017, konsentrasi NO2 naik menjadi 65.77 µg/m³.\n",
    "- Tren CO Tahunan:\n",
    "    - CO memiliki konsentrasi yang sangat tinggi dibandingkan polutan lainnya, dengan nilai rata-rata mencapai 1086.00 µg/m³ pada tahun 2013.\n",
    "    - Terjadi penurunan yang signifikan pada tahun 2016 menjadi 1183.91 µg/m³, kemudian naik lagi pada tahun 2017 menjadi 1647.81 µg/m³.\n",
    "- Tren O3 Tahunan:\n",
    "    - Konsentrasi O3 relatif stabil dengan sedikit fluktuasi, mulai dari 46.04 µg/m³ pada tahun 2013 hingga 46.69 µg/m³ pada tahun 2017.\n",
    "- Kontribusi Polutan:\n",
    "    - CO menunjukkan kontribusi tertinggi terhadap polusi udara di Aotizhongxin, dengan konsentrasi yang jauh lebih tinggi dibandingkan polutan lainnya.\n",
    "    - NO2 juga memiliki konsentrasi yang cukup tinggi, sementara SO2 dan O3 menunjukkan konsentrasi yang relatif rendah."
   ]
  },
  {
   "cell_type": "markdown",
   "metadata": {},
   "source": [
    "## Visualization & Explanatory Analysis"
   ]
  },
  {
   "cell_type": "markdown",
   "metadata": {},
   "source": [
    "### Pertanyaan 1: Bagaimana tren konsentrasi PM2.5 dan PM10 selama beberapa tahun terakhir di Aotizhongxin?"
   ]
  },
  {
   "cell_type": "code",
   "execution_count": null,
   "metadata": {},
   "outputs": [
    {
     "data": {
      "image/png": "[encoded data removed]",
      "text/plain": [
       "<Figure size 1000x600 with 1 Axes>"
      ]
     },
     "metadata": {},
     "output_type": "display_data"
    }
   ],
   "source": [
    "plt.figure(figsize=(10, 6))\n",
    "plt.plot(PM_yearly_data['year'], PM_yearly_data['PM2.5'], label='PM2.5', marker='o')\n",
    "plt.plot(PM_yearly_data['year'], PM_yearly_data['PM10'], label='PM10', marker='x')\n",
    "\n",
    "plt.xlabel('Year')\n",
    "plt.ylabel('Concentration (µg/m³)')\n",
    "plt.title('Trend of PM2.5 and PM10 Concentrations in Aotizhongxin')\n",
    "plt.xticks(PM_yearly_data['year'])\n",
    "plt.legend()\n",
    "plt.grid(True)\n",
    "plt.show()\n"
   ]
  },
  {
   "cell_type": "markdown",
   "metadata": {},
   "source": [
    "**Insight**\n",
    "1. Tren PM2.5. :\n",
    "  - Konsentrasi PM2.5 menunjukkan peningkatan secara umum dari tahun 2013 hingga 2014, mencapai puncaknya pada sekitar 87 µg/m³.\n",
    "  - Terdapat penurunan tingkat PM2.5 dari tahun 2014 hingga 2016, mencapai titik terendah sekitar 75 µg/m³.\n",
    "  - Pada tahun 2017, terjadi peningkatan konsentrasi PM2.5 yang signifikan, mencapai sekitar 95 µg/m³.\n",
    "2. Tren PM10:\n",
    "  - Konsentrasi PM10 juga menunjukkan peningkatan awal dari tahun 2013 hingga 2014, dengan nilai puncak sekitar 120 µg/m³.\n",
    "  - Penurunan tingkat PM10 diamati dari tahun 2014 hingga 2016, dengan konsentrasi terendah sekitar 90 µg/m³.\n",
    "  - Pada tahun 2017, konsentrasi PM10 meningkat kembali menjadi sekitar 110 µg/m³.\n",
    "3. Perbandingan Antara PM2.5 dan PM10:\n",
    "  - Selama periode tersebut, konsentrasi PM10 secara konsisten lebih tinggi daripada konsentrasi PM2.5.\n",
    "  - Baik PM2.5 dan PM10 menunjukkan tren yang sama, dengan puncak pada tahun 2014 dan penurunan pada tahun 2016, diikuti dengan peningkatan pada tahun 2017."
   ]
  },
  {
   "cell_type": "markdown",
   "metadata": {},
   "source": [
    "### Pertanyaan 2: Polutan mana (SO2, NO2, CO, O3) yang memiliki kontribusi tertinggi terhadap polusi udara di Aotizhongxin?"
   ]
  },
  {
   "cell_type": "code",
   "execution_count": null,
   "metadata": {},
   "outputs": [
    {
     "name": "stdout",
     "output_type": "stream",
     "text": [
      "   year        SO2        NO2           CO         O3\n",
      "0  2013  23.281569  63.168010  1086.004630  46.039820\n",
      "1  2014  20.091724  61.407637  1136.917808  46.237591\n",
      "2  2015  14.218356  60.488710  1379.394977  62.166324\n",
      "3  2016  10.724841  47.880351  1183.913934  60.188069\n",
      "4  2017  20.585452  65.769068  1647.810734  46.690678\n"
     ]
    },
    {
     "data": {
      "image/png": "[encoded data removed]",
      "text/plain": [
       "<Figure size 1200x800 with 1 Axes>"
      ]
     },
     "metadata": {},
     "output_type": "display_data"
    },
    {
     "data": {
      "image/png": "[encoded data removed]",
      "text/plain": [
       "<Figure size 1000x600 with 1 Axes>"
      ]
     },
     "metadata": {},
     "output_type": "display_data"
    }
   ],
   "source": [
    "plt.figure(figsize=(12, 8))\n",
    "for pollutant in ['SO2', 'NO2', 'CO', 'O3']:\n",
    "    plt.plot(pollutant_yearly_trend['year'], pollutant_yearly_trend[pollutant], label=pollutant, marker='o')\n",
    "\n",
    "plt.xlabel('Year')\n",
    "plt.ylabel('Average Concentration (µg/m³)')\n",
    "plt.title('Yearly Trend of Pollutants in Aotizhongxin')\n",
    "plt.legend()\n",
    "plt.grid(True)\n",
    "plt.show()\n",
    "\n",
    "average_pollutant_concentrations = df[['SO2', 'NO2', 'CO', 'O3']].mean()\n",
    "\n",
    "plt.figure(figsize=(10, 6))\n",
    "plt.bar(average_pollutant_concentrations.index, average_pollutant_concentrations.values)\n",
    "plt.xlabel('Pollutant')\n",
    "plt.ylabel('Average Concentration (µg/m³)')\n",
    "plt.title('Overall Average Pollutant Concentrations in Aotizhongxin')\n",
    "plt.show()"
   ]
  },
  {
   "cell_type": "markdown",
   "metadata": {},
   "source": [
    "**Insight:**\n",
    "1. Konsentrasi SO2:\n",
    "    - Konsentrasi rata-rata SO2 sangat rendah, mendekati 0 µg/m³, yang mengindikasikan kontribusi minimal terhadap polusi udara.\n",
    "2. Konsentrasi NO2:\n",
    "    - NO2 memiliki konsentrasi rata-rata yang sedikit lebih tinggi dibandingkan dengan SO2, namun tetap relatif rendah, sekitar 50 µg/m³.\n",
    "3. Konsentrasi CO:\n",
    "    - CO menunjukkan konsentrasi rata-rata tertinggi di antara polutan, mencapai sekitar 1200 µg/m³, menjadikannya kontributor utama polusi udara di Aotizhongxin.\n",
    "4. Konsentrasi O3:\n",
    "    - O3 memiliki konsentrasi rata-rata sedang, sekitar 50 µg/m³, yang lebih tinggi dari SO2 dan NO2 tetapi jauh lebih rendah dari CO.\n",
    "5. Kontribusi Keseluruhan:\n",
    "    - CO adalah polutan dominan yang berkontribusi paling besar terhadap polusi udara di Aotizhongxin, diikuti oleh O3, NO2, dan SO2 dalam urutan menurun."
   ]
  },
  {
   "cell_type": "markdown",
   "metadata": {},
   "source": [
    "## Analisis Lanjutan (Opsional)"
   ]
  },
  {
   "cell_type": "code",
   "execution_count": null,
   "metadata": {},
   "outputs": [
    {
     "name": "stdout",
     "output_type": "stream",
     "text": [
      "              PM2.5          PM10           SO2           NO2            CO  \\\n",
      "count  35064.000000  35064.000000  35064.000000  35064.000000  35064.000000   \n",
      "mean      80.827438    107.929563     16.965895     58.334128   1219.236767   \n",
      "std       81.902935     95.388384     22.652509     36.997826   1205.050802   \n",
      "min        3.000000      2.000000      0.285600      2.000000    100.000000   \n",
      "25%       20.000000     35.000000      3.000000     28.000000    500.000000   \n",
      "50%       56.000000     84.000000      8.000000     52.000000    800.000000   \n",
      "75%      112.000000    153.000000     21.000000     81.000000   1500.000000   \n",
      "max      898.000000    984.000000    341.000000    290.000000  10000.000000   \n",
      "\n",
      "                 O3          TEMP          PRES          DEWP          RAIN  \\\n",
      "count  35064.000000  35064.000000  35064.000000  35064.000000  35064.000000   \n",
      "mean      53.688705     13.578570   1011.853281      3.131320      0.067383   \n",
      "std       57.685260     11.398647     10.404487     13.689356      0.909798   \n",
      "min        0.214200    -16.800000    985.900000    -35.300000      0.000000   \n",
      "25%        5.000000      3.100000   1003.300000     -8.100000      0.000000   \n",
      "50%       38.984400     14.500000   1011.400000      3.800000      0.000000   \n",
      "75%       80.000000     23.300000   1020.100000     15.700000      0.000000   \n",
      "max      423.000000     40.500000   1042.000000     28.500000     72.500000   \n",
      "\n",
      "               WSPM  \n",
      "count  35064.000000  \n",
      "mean       1.708293  \n",
      "std        1.203874  \n",
      "min        0.000000  \n",
      "25%        0.900000  \n",
      "50%        1.400000  \n",
      "75%        2.200000  \n",
      "max       11.200000  \n"
     ]
    },
    {
     "data": {
      "image/png": "[encoded data removed]",
      "text/plain": [
       "<Figure size 1200x800 with 11 Axes>"
      ]
     },
     "metadata": {},
     "output_type": "display_data"
    }
   ],
   "source": [
    "numerical_cols = ['PM2.5', 'PM10', 'SO2', 'NO2', 'CO', 'O3', 'TEMP', 'PRES', 'DEWP', 'RAIN', 'WSPM']\n",
    "descriptive_stats = df[numerical_cols].describe()\n",
    "print(descriptive_stats)\n",
    "\n",
    "plt.figure(figsize=(12, 8))\n",
    "\n",
    "for i, col in enumerate(numerical_cols):\n",
    "    plt.subplot(4, 3, i + 1)\n",
    "    sns.histplot(df[col], kde=True)\n",
    "    plt.title(f'Distribution of {col}')\n",
    "    plt.xlabel(col)\n",
    "    plt.ylabel('Frequency')\n",
    "\n",
    "plt.tight_layout()\n",
    "plt.show()"
   ]
  },
  {
   "cell_type": "markdown",
   "metadata": {},
   "source": [
    "**Insight**\n",
    "- PM2.5 dan PM10:\n",
    "    - Distribusi kedua parameter ini condong ke kanan (positif skewness), dengan banyak nilai rendah dan beberapa nilai ekstrem yang jauh lebih tinggi.\n",
    "    - Ini menunjukkan adanya episodik polusi tinggi yang mempengaruhi kualitas udara secara keseluruhan.\n",
    "- SO2:\n",
    "    - Distribusi SO2 cenderung normal dengan sedikit skewness positif, menunjukkan bahwa konsentrasi SO2 umumnya rendah dengan variasi yang terbatas.\n",
    "- NO2:\n",
    "    - Distribusi NO2 juga condong ke kanan, dengan banyak nilai rendah dan beberapa nilai ekstrem yang tinggi.\n",
    "    - Hal ini mengindikasikan adanya sumber emisi NO2 yang signifikan pada periode tertentu.\n",
    "- CO:\n",
    "    - Distribusi CO sangat condong ke kanan, dengan banyak nilai rendah dan beberapa outlier yang sangat tinggi.\n",
    "    - Outlier ekstrem kemungkinan disebabkan oleh aktivitas pembakaran bahan bakar fosil atau industri.\n",
    "- O3:\n",
    "    - Distribusi O3 cenderung normal dengan sedikit skewness positif, menunjukkan bahwa konsentrasi O3 umumnya rendah dengan variasi yang terbatas.\n",
    "- TEMP:\n",
    "    - Distribusi suhu udara (TEMP) cenderung normal, mencerminkan perubahan musiman yang terjadi.\n",
    "- PRES:\n",
    "    - Distribusi tekanan udara (PRES) cenderung normal, menunjukkan variasi tekanan udara yang stabil.\n",
    "- DEWP:\n",
    "    - Distribusi titik embun (DEWP) cenderung normal dengan sedikit skewness negatif, mencerminkan perubahan kelembaban udara yang terjadi.\n",
    "- RAIN:\n",
    "    - Distribusi curah hujan (RAIN) sangat condong ke kiri, dengan sebagian besar data memiliki nilai 0.\n",
    "    - Hal ini menunjukkan bahwa hari tanpa hujan lebih dominan dibandingkan hari dengan hujan.\n",
    "- WSPM:\n",
    "    - Distribusi kecepatan angin (WSPM) cenderung normal dengan sedikit skewness positif, menunjukkan variasi kecepatan angin yang terjadi."
   ]
  },
  {
   "cell_type": "code",
   "execution_count": 48,
   "metadata": {},
   "outputs": [
    {
     "name": "stdout",
     "output_type": "stream",
     "text": [
      "Particulate Matter ≤ 2.5 µm:\n",
      "0        Baik (Rendah)\n",
      "1        Baik (Rendah)\n",
      "2        Baik (Rendah)\n",
      "3        Baik (Rendah)\n",
      "4        Baik (Rendah)\n",
      "             ...      \n",
      "35059    Baik (Rendah)\n",
      "35060    Baik (Rendah)\n",
      "35061           Sedang\n",
      "35062           Sedang\n",
      "35063           Sedang\n",
      "Name: Cluster_PM2.5, Length: 35064, dtype: object\n",
      "\n",
      "\n",
      "Particulate Matter ≤ 10 µm:\n",
      "0        Baik (Rendah)\n",
      "1        Baik (Rendah)\n",
      "2        Baik (Rendah)\n",
      "3        Baik (Rendah)\n",
      "4        Baik (Rendah)\n",
      "             ...      \n",
      "35059    Baik (Rendah)\n",
      "35060    Baik (Rendah)\n",
      "35061    Baik (Rendah)\n",
      "35062    Baik (Rendah)\n",
      "35063    Baik (Rendah)\n",
      "Name: Cluster_PM10, Length: 35064, dtype: object\n",
      "\n",
      "\n",
      "Sulfur Dioxide (SO2):\n",
      "0        Baik (Rendah)\n",
      "1        Baik (Rendah)\n",
      "2        Baik (Rendah)\n",
      "3        Baik (Rendah)\n",
      "4        Baik (Rendah)\n",
      "             ...      \n",
      "35059    Baik (Rendah)\n",
      "35060    Baik (Rendah)\n",
      "35061    Baik (Rendah)\n",
      "35062    Baik (Rendah)\n",
      "35063    Baik (Rendah)\n",
      "Name: Cluster_SO2, Length: 35064, dtype: object\n",
      "\n",
      "\n",
      "Nitrogen Dioxide (NO2):\n",
      "0        Baik (Rendah)\n",
      "1        Baik (Rendah)\n",
      "2        Baik (Rendah)\n",
      "3        Baik (Rendah)\n",
      "4        Baik (Rendah)\n",
      "             ...      \n",
      "35059    Baik (Rendah)\n",
      "35060           Sedang\n",
      "35061           Sedang\n",
      "35062      Tidak Sehat\n",
      "35063           Sedang\n",
      "Name: Cluster_NO2, Length: 35064, dtype: object\n",
      "\n",
      "\n",
      "Carbon Monoxide (CO):\n",
      "0        Baik (Rendah)\n",
      "1        Baik (Rendah)\n",
      "2        Baik (Rendah)\n",
      "3        Baik (Rendah)\n",
      "4        Baik (Rendah)\n",
      "             ...      \n",
      "35059    Baik (Rendah)\n",
      "35060    Baik (Rendah)\n",
      "35061    Baik (Rendah)\n",
      "35062    Baik (Rendah)\n",
      "35063    Baik (Rendah)\n",
      "Name: Cluster_CO, Length: 35064, dtype: object\n",
      "\n",
      "\n",
      "Ozone (O3):\n",
      "0        Baik (Rendah)\n",
      "1        Baik (Rendah)\n",
      "2        Baik (Rendah)\n",
      "3        Baik (Rendah)\n",
      "4        Baik (Rendah)\n",
      "             ...      \n",
      "35059    Baik (Rendah)\n",
      "35060    Baik (Rendah)\n",
      "35061    Baik (Rendah)\n",
      "35062    Baik (Rendah)\n",
      "35063    Baik (Rendah)\n",
      "Name: Cluster_O3, Length: 35064, dtype: object\n"
     ]
    }
   ],
   "source": [
    "def cluster_pm25(value):\n",
    "    if value <= 15.0:\n",
    "        return \"Baik (Rendah)\"\n",
    "    elif value <= 35.4:\n",
    "        return \"Sedang\"\n",
    "    elif value <= 54.4:\n",
    "        return \"Tidak Sehat\"\n",
    "    elif value <= 155.4:\n",
    "        return \"Sangat Tidak Sehat\"\n",
    "    else:\n",
    "        return \"Berbahaya\"\n",
    "\n",
    "def cluster_pm10(value):\n",
    "    if value <= 45.0:\n",
    "        return \"Baik (Rendah)\"\n",
    "    elif value <= 154.0:\n",
    "        return \"Sedang\"\n",
    "    elif value <= 254.0:\n",
    "        return \"Tidak Sehat\"\n",
    "    elif value <= 354.0:\n",
    "        return \"Sangat Tidak Sehat\"\n",
    "    else:\n",
    "        return \"Berbahaya\"\n",
    "\n",
    "def cluster_so2(value):\n",
    "    if value <= 80.0:\n",
    "        return \"Baik (Rendah)\"\n",
    "    elif value <= 380.0:\n",
    "        return \"Sedang\"\n",
    "    elif value <= 800.0:\n",
    "        return \"Tidak Sehat\"\n",
    "    elif value <= 1600.0:\n",
    "        return \"Sangat Tidak Sehat\"\n",
    "    else:\n",
    "        return \"Berbahaya\"\n",
    "\n",
    "def cluster_no2(value):\n",
    "    if value <= 40.0:\n",
    "        return \"Baik (Rendah)\"\n",
    "    elif value <= 80.0:\n",
    "        return \"Sedang\"\n",
    "    elif value <= 180.0:\n",
    "        return \"Tidak Sehat\"\n",
    "    elif value <= 280.0:\n",
    "        return \"Sangat Tidak Sehat\"\n",
    "    else:\n",
    "        return \"Berbahaya\"\n",
    "\n",
    "def cluster_co(value):\n",
    "    if value <= 4400.0:\n",
    "        return \"Baik (Rendah)\"\n",
    "    elif value <= 9400.0:\n",
    "        return \"Sedang\"\n",
    "    elif value <= 12400.0:\n",
    "        return \"Tidak Sehat\"\n",
    "    elif value <= 15400.0:\n",
    "        return \"Sangat Tidak Sehat\"\n",
    "    else:\n",
    "        return \"Berbahaya\"\n",
    "\n",
    "def cluster_o3(value):\n",
    "    if value <= 100.0:\n",
    "        return \"Baik (Rendah)\"\n",
    "    elif value <= 160.0:\n",
    "        return \"Sedang\"\n",
    "    elif value <= 200.0:\n",
    "        return \"Tidak Sehat\"\n",
    "    elif value <= 700.0:\n",
    "        return \"Sangat Tidak Sehat\"\n",
    "    else:\n",
    "        return \"Berbahaya\"\n",
    "\n",
    "df[\"Cluster_PM2.5\"] = df[\"PM2.5\"].apply(cluster_pm25)\n",
    "df[\"Cluster_PM10\"] = df[\"PM10\"].apply(cluster_pm10)\n",
    "df[\"Cluster_SO2\"] = df[\"SO2\"].apply(cluster_so2)\n",
    "df[\"Cluster_NO2\"] = df[\"NO2\"].apply(cluster_no2)\n",
    "df[\"Cluster_CO\"] = df[\"CO\"].apply(cluster_co)\n",
    "df[\"Cluster_O3\"] = df[\"O3\"].apply(cluster_o3)\n",
    "\n",
    "print('Particulate Matter ≤ 2.5 µm:')\n",
    "print(df[\"Cluster_PM2.5\"])\n",
    "\n",
    "print('\\n')\n",
    "\n",
    "print('Particulate Matter ≤ 10 µm:')\n",
    "print(df[\"Cluster_PM10\"])\n",
    "\n",
    "print('\\n')\n",
    "\n",
    "print('Sulfur Dioxide (SO2):')\n",
    "print(df[\"Cluster_SO2\"])\n",
    "\n",
    "print('\\n')\n",
    "\n",
    "print('Nitrogen Dioxide (NO2):')\n",
    "print(df[\"Cluster_NO2\"])\n",
    "\n",
    "print('\\n')\n",
    "\n",
    "print('Carbon Monoxide (CO):')\n",
    "print(df[\"Cluster_CO\"])\n",
    "\n",
    "print('\\n')\n",
    "\n",
    "print('Ozone (O3):')\n",
    "print(df[\"Cluster_O3\"])"
   ]
  },
  {
   "cell_type": "markdown",
   "metadata": {},
   "source": [
    "- Tujuan analisis adalah melakukan manual clustering untuk mengelompokkan data polusi udara berdasarkan standar kualitas udara.\n",
    "- Dataset yang Dianalisis mencakup variabel berikut:\n",
    "  1. PM2.5 : Partikel halus ≤ 2.5 µm.\n",
    "  2. PM10 : Partikel kasar ≤ 10 µm.\n",
    "  3. SO2 : Sulfur Dioxide.\n",
    "  4. NO2 : Nitrogen Dioxide.\n",
    "  5. CO : Carbon Monoxide.\n",
    "  6. O3 : Ozone.\n",
    "- Manual Clustering dilakukan dengan membagi data ke dalam beberapa kategori berdasarkan rentang nilai tertentu:\n",
    "  - Baik (Rendah) : Kualitas udara baik, risiko kesehatan minimal.\n",
    "  - Sedang : Masih aman, tetapi kelompok sensitif mulai terpengaruh.\n",
    "  - Tidak Sehat : Mulai berisiko bagi semua kelompok.\n",
    "  - Sangat Tidak Sehat : Risiko kesehatan serius bagi semua orang.\n",
    "  - Berbahaya : Sangat berbahaya, dapat menyebabkan efek kesehatan akut."
   ]
  },
  {
   "cell_type": "markdown",
   "metadata": {},
   "source": [
    "## Conclusion"
   ]
  },
  {
   "cell_type": "markdown",
   "metadata": {},
   "source": [
    "1. Kesimpulan pertanyaan 1\n",
    "- Secara umum, konsentrasi PM2.5 dan PM10 menunjukkan tren penurunan bertahap dari tahun 2013 hingga 2017. Ini mungkin mencerminkan upaya mitigasi polusi udara yang dilakukan oleh pemerintah setempat.\n",
    "Namun, pada periode tertentu (misalnya, awal tahun atau akhir tahun), terjadi lonjakan signifikan dalam konsentrasi PM2.5 dan PM10, yang menunjukkan adanya episodik polusi tinggi.\n",
    "2. kesimpulan pertanyaan 2\n",
    "- Di antara gas polutan (SO2, NO2, CO, O3), NO2 dan CO menunjukkan konsentrasi yang relatif lebih tinggi dibandingkan SO2 dan O3.\n",
    "- SO2 : Konsentrasi SO2 cenderung rendah hingga sedang, dengan nilai maksimum mencapai 147 µg/m³ . Ini menunjukkan bahwa emisi sulfur (misalnya dari pembakaran batubara) tidak menjadi penyumbang utama polusi udara di area ini.\n",
    "- NO2 : NO2 memiliki konsentrasi yang cukup tinggi, dengan nilai maksimum mencapai 157 µg/m³ . Hal ini menunjukkan bahwa emisi dari kendaraan bermotor dan aktivitas industri merupakan sumber utama polusi NO2.\n",
    "- CO : Konsentrasi CO sangat tinggi pada beberapa hari, dengan nilai maksimum mencapai 3600 µg/m³ . Ini menunjukkan bahwa pembakaran bahan bakar fosil (misalnya, kendaraan bermotor dan pemanasan) adalah sumber utama CO.\n",
    "- O3 : Konsentrasi O3 cenderung lebih rendah dibandingkan polutan lainnya, tetapi meningkat pada musim panas akibat suhu tinggi dan radiasi matahari yang mempercepat pembentukan ozon troposfer."
   ]
  }
 ],
 "metadata": {
  "kernelspec": {
   "display_name": "Python 3",
   "language": "python",
   "name": "python3"
  },
  "language_info": {
   "codemirror_mode": {
    "name": "ipython",
    "version": 3
   },
   "file_extension": ".py",
   "mimetype": "text/x-python",
   "name": "python",
   "nbconvert_exporter": "python",
   "pygments_lexer": "ipython3",
   "version": "3.13.2"
  }
 },
 "nbformat": 4,
 "nbformat_minor": 2
}
